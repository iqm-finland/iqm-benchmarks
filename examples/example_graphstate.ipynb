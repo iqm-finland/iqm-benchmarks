{
 "cells": [
  {
   "metadata": {},
   "cell_type": "markdown",
   "source": "# Graph State Benchmark Example",
   "id": "6cf50ea7ee23a168"
  },
  {
   "metadata": {},
   "cell_type": "code",
   "outputs": [],
   "execution_count": null,
   "source": [
    "%load_ext autoreload\n",
    "%autoreload 2"
   ],
   "id": "51cbde8617216eb5"
  },
  {
   "metadata": {},
   "cell_type": "markdown",
   "source": "# Choose (or define) a backend",
   "id": "89c576a37e9e6a87"
  },
  {
   "metadata": {},
   "cell_type": "code",
   "outputs": [],
   "execution_count": null,
   "source": [
    "backend = \"fakeadonis\"\n",
    "#backend = \"fakeapollo\"\n",
    "#backend = \"garnet\"\n",
    "#backend = \"deneb\""
   ],
   "id": "d12cd6072b792eab"
  },
  {
   "metadata": {},
   "cell_type": "markdown",
   "source": "#### Set IQM Token if using Resonance.",
   "id": "7da5c3b599e0ea1c"
  },
  {
   "metadata": {},
   "cell_type": "code",
   "outputs": [],
   "execution_count": null,
   "source": [
    "# import os\n",
    "# os.environ[\"IQM_TOKEN\"] = \"\""
   ],
   "id": "db0f72b618798cfb"
  },
  {
   "metadata": {},
   "cell_type": "markdown",
   "source": "# Graph State Configuration",
   "id": "fe3133c1efcc329a"
  },
  {
   "metadata": {},
   "cell_type": "code",
   "outputs": [],
   "execution_count": null,
   "source": "from iqm.benchmarks.entanglement.graph_states import *",
   "id": "233f50bc3b0e28fc"
  },
  {
   "metadata": {},
   "cell_type": "code",
   "outputs": [],
   "execution_count": null,
   "source": [
    "EXAMPLE_GRAPHSTATE = GraphStateConfiguration(\n",
    "    qubits=[0,1,2,3,4,5],\n",
    "    n_random_unitaries=10,\n",
    "    shots=2**8,\n",
    "    calset_id=None,\n",
    "    #qiskit_optim_level=3,\n",
    "    #optimize_sqg=True,\n",
    "    #routing_method=\"sabre\",\n",
    "    #physical_layout=\"fixed\",\n",
    "    #max_gates_per_batch=60_000,\n",
    "    #rem=True,\n",
    "    #mit_shots=1_000,\n",
    ")"
   ],
   "id": "e648763ec2bdebf7"
  },
  {
   "metadata": {},
   "cell_type": "code",
   "outputs": [],
   "execution_count": null,
   "source": [
    "# benchmark_graphstate = GraphStateBenchmark(backend, EXAMPLE_GRAPHSTATE)\n",
    "# run_graphstate = benchmark_graphstate.run()"
   ],
   "id": "96f580bf1bd1f604"
  },
  {
   "metadata": {},
   "cell_type": "code",
   "outputs": [],
   "execution_count": null,
   "source": "# result_graphstate = benchmark_graphstate.analyze()",
   "id": "af01830855f393b9"
  }
 ],
 "metadata": {
  "kernelspec": {
   "display_name": "Python 3",
   "language": "python",
   "name": "python3"
  },
  "language_info": {
   "codemirror_mode": {
    "name": "ipython",
    "version": 2
   },
   "file_extension": ".py",
   "mimetype": "text/x-python",
   "name": "python",
   "nbconvert_exporter": "python",
   "pygments_lexer": "ipython2",
   "version": "2.7.6"
  }
 },
 "nbformat": 4,
 "nbformat_minor": 5
}
