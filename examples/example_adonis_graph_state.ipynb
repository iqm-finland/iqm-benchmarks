{
 "cells": [
  {
   "metadata": {},
   "cell_type": "markdown",
   "source": "## Currently this notebook is an illustration for Adonis.",
   "id": "1d4701a25026b0c5"
  },
  {
   "cell_type": "code",
   "id": "initial_id",
   "metadata": {
    "collapsed": true,
    "ExecuteTime": {
     "end_time": "2024-12-18T14:00:17.209869Z",
     "start_time": "2024-12-18T14:00:09.943579Z"
    }
   },
   "source": [
    "import matplotlib.pyplot as plt\n",
    "from iqm.qiskit_iqm.fake_backends.fake_adonis import IQMFakeAdonis\n",
    "from iqm.benchmarks.entanglement.graph_states import generate_graph_state\n",
    "from iqm.benchmarks.shadow_utils import *\n",
    "from qiskit import ClassicalRegister, transpile\n",
    "from iqm.qiskit_iqm.iqm_transpilation import optimize_single_qubit_gates\n",
    "from rustworkx.visualization import mpl_draw\n",
    "from rustworkx import spring_layout"
   ],
   "outputs": [],
   "execution_count": 1
  },
  {
   "metadata": {
    "ExecuteTime": {
     "end_time": "2024-12-18T14:00:17.303075Z",
     "start_time": "2024-12-18T14:00:17.216869Z"
    }
   },
   "cell_type": "code",
   "source": [
    "## initiate the backend\n",
    "backend = IQMFakeAdonis()"
   ],
   "id": "3193005c03a0535",
   "outputs": [],
   "execution_count": 2
  },
  {
   "metadata": {
    "ExecuteTime": {
     "end_time": "2024-12-18T14:26:52.296464Z",
     "start_time": "2024-12-18T14:26:52.262476Z"
    }
   },
   "cell_type": "code",
   "source": [
    "qc = generate_graph_state(list(range(backend.num_qubits)), backend=backend)\n",
    "sub_system = list(backend.coupling_map)\n",
    "sub_system = [v for i, v in enumerate(sub_system) if i % 2 == 0]\n",
    "sub_system = [list(x) for x in sub_system]\n",
    "\n",
    "groups = [list(set(list(range(backend.num_qubits))) - set(x)) for x in sub_system]\n",
    "num_group = len(groups)\n",
    "\n",
    "## given the quantum circuit, the neighbouring qubits are measured in the z basis\n",
    "## For Adnois this forms 4 such groups.\n",
    "def project_neighbouring_qubits(qc, meas_qubit):\n",
    "    \"\"\"\n",
    "    Args:\n",
    "    Returns:\n",
    "\n",
    "    \"\"\"\n",
    "    qc_copy = qc.copy()\n",
    "    qc_copy.barrier()\n",
    "    num_cregs = len(meas_qubit)\n",
    "    register = ClassicalRegister(num_cregs)\n",
    "    qc_copy.add_register(register)\n",
    "    for idx, iq in enumerate(meas_qubit):\n",
    "        qc_copy.measure(iq, register[idx])\n",
    "    return qc_copy, num_cregs\n",
    "\n",
    "qc_list = [project_neighbouring_qubits(qc, x) for x in groups]"
   ],
   "id": "ca212e79585d28e1",
   "outputs": [],
   "execution_count": 9
  },
  {
   "metadata": {
    "ExecuteTime": {
     "end_time": "2024-12-18T14:36:15.349154Z",
     "start_time": "2024-12-18T14:35:41.173049Z"
    }
   },
   "cell_type": "code",
   "source": [
    "Nu = 50 ## number of random unitaries used\n",
    "Nm = 1000 ## number of measurements per random unitary\n",
    "counts_list = []\n",
    "unitaries_list = []\n",
    "\n",
    "for circs, _ in qc_list:\n",
    "    unitaries, rm_circs = haar_shadow_tomography(circs, Nu, list(range(backend.num_qubits)))\n",
    "    rm_trans = [optimize_single_qubit_gates(transpile(qcc, backend), drop_final_rz=True) for qcc in rm_circs]\n",
    "\n",
    "    job = backend.run(rm_trans, shots = Nm)\n",
    "    counts = job.result().get_counts()\n",
    "    counts_list.append(counts)\n",
    "    unitaries_list.append(unitaries)"
   ],
   "id": "6ea5cec62f1b95c8",
   "outputs": [],
   "execution_count": 27
  },
  {
   "metadata": {
    "ExecuteTime": {
     "end_time": "2024-12-18T14:36:15.460714Z",
     "start_time": "2024-12-18T14:36:15.355668Z"
    }
   },
   "cell_type": "code",
   "source": [
    "neighbour_qubits = 3\n",
    "neigbour_bit_strings = [' ' + format(x, '0'+str(neighbour_qubits)+'b') for x in range(2**neighbour_qubits)] # list of strings of the remaining 3 neighbouring qubits\n",
    "counts_bit = [] ## counts of the edge of interest in the graph for all possible combination of the neighbouring qubits\n",
    "\n",
    "for ibit in neigbour_bit_strings:\n",
    "    counts_group = []\n",
    "    for iu in range(len(groups)):\n",
    "        counts_per_batch = []\n",
    "        for iq in range(len(counts_list[iu])):\n",
    "            counts_new = {}\n",
    "            for inm, ist in enumerate(counts_list[iu][iq].keys()):\n",
    "                if (ist[-4:] == ibit):\n",
    "                    counts_new[ist[0:5]] = counts_list[iu][iq][ist]\n",
    "            counts_per_batch.append(counts_new)\n",
    "        counts_group.append(counts_per_batch)\n",
    "    counts_bit.append(counts_group)"
   ],
   "id": "3c4e9b5eeb164e18",
   "outputs": [],
   "execution_count": 28
  },
  {
   "metadata": {
    "ExecuteTime": {
     "end_time": "2024-12-18T14:36:18.372621Z",
     "start_time": "2024-12-18T14:36:15.515979Z"
    }
   },
   "cell_type": "code",
   "source": [
    "## construct shadows for each neighbour_bit_string and each edge of interest.\n",
    "rho_shadows_all_bits = []\n",
    "\n",
    "for idx, ibit in enumerate(neigbour_bit_strings):\n",
    "    rho_shadows = []\n",
    "    for ib in range(len(groups)):\n",
    "        nqubits = len(sub_system[ib])\n",
    "        rho = np.zeros((2**nqubits, 2**nqubits), dtype = complex)\n",
    "        for iu in range(Nu):\n",
    "            rho += get_shadow(counts_bit[idx][ib][iu], unitaries_list[ib][iu,:,:,:], sub_system[ib])/Nu\n",
    "        rho_shadows.append(rho)\n",
    "    rho_shadows_all_bits.append(rho_shadows)"
   ],
   "id": "61bf2f57972e3fb2",
   "outputs": [],
   "execution_count": 29
  },
  {
   "metadata": {
    "ExecuteTime": {
     "end_time": "2024-12-18T14:36:18.531266Z",
     "start_time": "2024-12-18T14:36:18.433612Z"
    }
   },
   "cell_type": "code",
   "source": [
    "## compute the 2 qubit negativity for each of the neighbour bitstrings and groups\n",
    "neg = [[np.abs(get_negativity(rho_shadows_all_bits[bits][isys], 1, 1)) for bits in range(2**neighbour_qubits)] for isys in range(num_group)]\n",
    "neg_per_edge = [max(x) for x in neg]\n",
    "plt.scatter(list(range(num_group)), neg_per_edge)\n",
    "plt.xticks(list(range(num_group)), sub_system, fontsize=12, rotation=90)\n",
    "plt.ylabel('Negativity')\n",
    "plt.xlabel('Edges')"
   ],
   "id": "ad6104113ae8e34e",
   "outputs": [
    {
     "data": {
      "text/plain": [
       "Text(0.5, 0, 'Edges')"
      ]
     },
     "execution_count": 30,
     "metadata": {},
     "output_type": "execute_result"
    },
    {
     "data": {
      "text/plain": [
       "<Figure size 640x480 with 1 Axes>"
      ],
      "image/png": "[encoded data removed]"
     },
     "metadata": {},
     "output_type": "display_data"
    }
   ],
   "execution_count": 30
  },
  {
   "metadata": {
    "ExecuteTime": {
     "end_time": "2024-12-18T14:00:55.762374Z",
     "start_time": "2024-12-18T14:00:55.758048Z"
    }
   },
   "cell_type": "code",
   "source": "",
   "id": "62ee360b7a18b810",
   "outputs": [],
   "execution_count": null
  }
 ],
 "metadata": {
  "kernelspec": {
   "display_name": "iqm-benchmarks",
   "language": "python",
   "name": "iqm-benchmarks"
  },
  "language_info": {
   "codemirror_mode": {
    "name": "ipython",
    "version": 2
   },
   "file_extension": ".py",
   "mimetype": "text/x-python",
   "name": "python",
   "nbconvert_exporter": "python",
   "pygments_lexer": "ipython2",
   "version": "2.7.6"
  }
 },
 "nbformat": 4,
 "nbformat_minor": 5
}
