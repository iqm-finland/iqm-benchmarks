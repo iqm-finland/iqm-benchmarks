{
 "cells": [
  {
   "cell_type": "markdown",
   "id": "c5fefdb0",
   "metadata": {},
   "source": [
    "# QV on Deneb"
   ]
  },
  {
   "cell_type": "code",
   "execution_count": null,
   "id": "initial_id",
   "metadata": {
    "ExecuteTime": {
     "end_time": "2024-12-23T11:35:05.334329Z",
     "start_time": "2024-12-23T11:35:05.268471Z"
    }
   },
   "outputs": [],
   "source": [
    "%load_ext autoreload\n",
    "%autoreload 2"
   ]
  },
  {
   "cell_type": "markdown",
   "id": "b2c63962f3ca4618",
   "metadata": {},
   "source": [
    "## Choose Deneb as a backend"
   ]
  },
  {
   "cell_type": "code",
   "execution_count": null,
   "id": "bd04e92bc8bc6d22",
   "metadata": {
    "ExecuteTime": {
     "end_time": "2024-12-23T11:35:05.401100Z",
     "start_time": "2024-12-23T11:35:05.339341Z"
    }
   },
   "outputs": [],
   "source": [
    "backend = \"deneb\""
   ]
  },
  {
   "cell_type": "markdown",
   "id": "24a83603a9b243f4",
   "metadata": {},
   "source": [
    "## Set IQM Token if using Resonance."
   ]
  },
  {
   "cell_type": "code",
   "execution_count": null,
   "id": "249d8974af559964",
   "metadata": {
    "ExecuteTime": {
     "end_time": "2024-12-23T11:35:05.715523Z",
     "start_time": "2024-12-23T11:35:05.666212Z"
    }
   },
   "outputs": [],
   "source": [
    "import os\n",
    "os.environ[\"IQM_TOKEN\"] = \"\""
   ]
  },
  {
   "cell_type": "markdown",
   "id": "8b3fbf168fb20058",
   "metadata": {},
   "source": [
    "## Quantum Volume Configuration"
   ]
  },
  {
   "cell_type": "code",
   "execution_count": null,
   "id": "b9e5d0c5240203fd",
   "metadata": {
    "ExecuteTime": {
     "end_time": "2024-12-23T11:35:08.738192Z",
     "start_time": "2024-12-23T11:35:05.724623Z"
    }
   },
   "outputs": [],
   "source": [
    "from iqm.benchmarks.quantum_volume.quantum_volume import *"
   ]
  },
  {
   "cell_type": "code",
   "execution_count": null,
   "id": "1072ddc990ea37e1",
   "metadata": {
    "ExecuteTime": {
     "end_time": "2024-12-23T11:35:09.544976Z",
     "start_time": "2024-12-23T11:35:09.369215Z"
    }
   },
   "outputs": [],
   "source": [
    "EXAMPLE_QV = QuantumVolumeConfiguration(\n",
    "    num_circuits=500,\n",
    "    shots=2**8,\n",
    "    calset_id=None,\n",
    "    num_sigmas=2,\n",
    "    choose_qubits_routine=\"custom\",\n",
    "    custom_qubits_array=[[1,2,4]],  ### specify the layout of the qubits. 0 is reserved for the resonator.\n",
    "    qiskit_optim_level=3,\n",
    "    optimize_sqg=True,\n",
    "    routing_method=\"sabre\",\n",
    "    physical_layout=\"fixed\",\n",
    "    max_gates_per_batch=60_000, ## this needs to be reduced when running for larger number of qubits\n",
    "    rem=True,\n",
    "    mit_shots=1_000,\n",
    ")"
   ]
  },
  {
   "cell_type": "markdown",
   "id": "7814b014cec0ca8c",
   "metadata": {},
   "source": [
    "## Run the experiment"
   ]
  },
  {
   "cell_type": "code",
   "execution_count": null,
   "id": "bd9e03c20bafd360",
   "metadata": {
    "ExecuteTime": {
     "end_time": "2024-12-23T11:35:12.471480Z",
     "start_time": "2024-12-23T11:35:09.555802Z"
    },
    "scrolled": true
   },
   "outputs": [],
   "source": [
    "benchmark_qv = QuantumVolumeBenchmark(backend, EXAMPLE_QV)\n",
    "run0_qv = benchmark_qv.run()"
   ]
  },
  {
   "cell_type": "markdown",
   "id": "25a02882167d994b",
   "metadata": {},
   "source": [
    "## Perform Analysis"
   ]
  },
  {
   "cell_type": "code",
   "execution_count": null,
   "id": "af8eb36cbf9b8243",
   "metadata": {},
   "outputs": [],
   "source": [
    "result0_qv = benchmark_qv.analyze()"
   ]
  },
  {
   "cell_type": "markdown",
   "id": "853877e2",
   "metadata": {},
   "source": [
    "List all the keys in the attributes of the dataset"
   ]
  },
  {
   "cell_type": "code",
   "execution_count": null,
   "id": "2fd202e7",
   "metadata": {},
   "outputs": [],
   "source": [
    "attr_keys = sorted([str(x) for x in list(result0_qv.dataset.attrs.keys())])\n",
    "for k in attr_keys:\n",
    "    print(k)"
   ]
  },
  {
   "cell_type": "markdown",
   "id": "b629aa2b-fbfc-4231-a04b-c1e2dfd0422f",
   "metadata": {},
   "source": [
    "The data for specific experiments is indexed by 0,1,..., e.g., for the first experiment:"
   ]
  },
  {
   "cell_type": "code",
   "execution_count": null,
   "id": "eac1c873",
   "metadata": {},
   "outputs": [],
   "source": [
    "for k in result0_qv.dataset.attrs[0].keys():\n",
    "    print(k)"
   ]
  },
  {
   "cell_type": "markdown",
   "id": "02e1f69b",
   "metadata": {},
   "source": [
    "The observation object contains the benchmark results"
   ]
  },
  {
   "cell_type": "code",
   "execution_count": null,
   "id": "be60c768",
   "metadata": {},
   "outputs": [],
   "source": [
    "result0_qv.observations"
   ]
  },
  {
   "cell_type": "markdown",
   "id": "abd651c8",
   "metadata": {},
   "source": [
    "Or print all the plots at once"
   ]
  },
  {
   "cell_type": "code",
   "execution_count": null,
   "id": "42e12cbe",
   "metadata": {},
   "outputs": [],
   "source": [
    "result0_qv.plot_all()"
   ]
  },
  {
   "cell_type": "markdown",
   "id": "b871840e",
   "metadata": {},
   "source": [
    "Store all the data of the run if one sees a successful quantum volume. \n"
   ]
  },
  {
   "cell_type": "code",
   "execution_count": null,
   "id": "f81c6a81",
   "metadata": {},
   "outputs": [],
   "source": [
    "## Things needed to load the data. \n",
    "HOP = result0_qv.dataset.attrs[0][\"REM_heavy_output_probabilities\"]\n",
    "HOP_cumul = result0_qv.dataset.attrs[0][\"REM_cumulative_average_heavy_output_probability\"]\n",
    "HOP_cumul_std = result0_qv.dataset.attrs[0][\"REM_cumulative_stddev_heavy_output_probability\"]\n",
    "HOP_threshold = [2.0/3.0]*len(HOP)"
   ]
  },
  {
   "cell_type": "code",
   "execution_count": null,
   "id": "d50efc0c-2d62-43ab-81ef-1204a7642c6e",
   "metadata": {},
   "outputs": [],
   "source": [
    "# Create a directory to store the pickle files with a timestamp\n",
    "import pickle\n",
    "import os\n",
    "from datetime import datetime\n",
    "\n",
    "date_str = datetime.now().strftime(\"%Y-%m-%d\")\n",
    "save_dir = f\"data_QV_{date_str}\"\n",
    "os.makedirs(save_dir, exist_ok=True)\n",
    "\n",
    "# Function to save a list as a pickle file\n",
    "def save_pickle(data, filename):\n",
    "    with open(filename, \"wb\") as f:\n",
    "        pickle.dump(data, f)\n",
    "\n",
    "# Save each list separately\n",
    "save_pickle(HOP, os.path.join(save_dir, \"HOP.pkl\"))\n",
    "save_pickle(HOP_cumul, os.path.join(save_dir, \"HOP_cumul.pkl\"))\n",
    "save_pickle(HOP_cumul_std, os.path.join(save_dir, \"HOP_cumul_std.pkl\"))\n",
    "save_pickle(HOP_threshold, os.path.join(save_dir, \"HOP_threshold.pkl\"))\n",
    "\n",
    "print(f\"Pickle files saved in {save_dir}\")"
   ]
  }
 ],
 "metadata": {
  "kernelspec": {
   "display_name": "iqm-benchmarks",
   "language": "python",
   "name": "python3"
  },
  "language_info": {
   "codemirror_mode": {
    "name": "ipython",
    "version": 3
   },
   "file_extension": ".py",
   "mimetype": "text/x-python",
   "name": "python",
   "nbconvert_exporter": "python",
   "pygments_lexer": "ipython3",
   "version": "3.11.11"
  }
 },
 "nbformat": 4,
 "nbformat_minor": 5
}
