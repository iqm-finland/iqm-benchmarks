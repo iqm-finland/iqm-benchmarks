{
 "cells": [
  {
   "cell_type": "markdown",
   "id": "feba4cfa-dc9d-4029-967c-83140c11d750",
   "metadata": {},
   "source": [
    "# Greenberger–Horne–Zeilinger (GHZ) State Fidelity\n",
    "\n",
    "The aim of this benchmark is to show whether a GHZ state with high enough fidelity can be prepared such that the state is genuinely multipartite entangled. One can show that a fidelity larger than 0.5 is a sufficient condition (see Leibfried, D. et al., [Nature 438, 639–642](https://www.nature.com/articles/nature04251)  (2005))\n",
    "\n",
    "The benchmark currently offers two methods to estimate the fidelity:\n",
    "* Multiple quantum coherences (G. J. Mooney et al., [J. Phys. Commun. 5, 095004](https://iopscience.iop.org/article/10.1088/2399-6528/ac1df7) (2021))\n",
    "* Randomized measurements (Elben, A. et al., [Phys. Rev. A 99, 052323](https://journals.aps.org/pra/abstract/10.1103/PhysRevA.99.052323) (2019))\n",
    "\n",
    "Additionally, for a given set of $n$ qubits, different circuits can be applied which lead to the same GHZ state. Currently there are the following implementations:\n",
    "* \"naive\": The textbook ciruit of depth $n$, which starts from a Hadamard gate on one qubit and entangles each additional qubit with a CNOT operation from the first qubit.\n",
    "* \"log_depth\": A logarithmic depth circuit utilizing parallel CNOT applications. Either the method in Cruz et al. [arXiv:1807.05572](https://arxiv.org/abs/1807.05572) or the method in Mooney et al. [arXiv:2101.08946](https://arxiv.org/abs/2101.08946) is used, depending on which yields the lower depth or the lower number of 2-qubit gates. \n",
    "* \"star\": A linear circuit that creates GHZ states that is tailored for IQM's novel, effectively all-to-all, connected QPU topology.\n",
    "* \"tree\": An IQM-developed logarithmic depth circuit utilizing calibration data of the CZ average fidelities and a tree-graph algorithm to find a circuit with minimal depth and high fidelity 2-qubit gates. \n",
    "\n",
    "Note that the first two methods will always give, respectively, the same circuits for the same qubit layouts and same coupling maps, while the `tree` method relies on the latest calibration data and can give different circuits at different execution times. \n",
    "Thus, for consistent comparisons, one of the first two methods should be chosen, while for the best results, i.e., the largest possible Genuine Multipartite Entanglement (GME) - entangled GHZ state, the `tree`-method is preferable."
   ]
  },
  {
   "cell_type": "code",
   "execution_count": null,
   "id": "fead11ad-e2d7-48dd-a7a4-c302a7eba65c",
   "metadata": {
    "ExecuteTime": {
     "end_time": "2025-02-03T16:56:46.397710Z",
     "start_time": "2025-02-03T16:56:44.394254Z"
    }
   },
   "outputs": [],
   "source": [
    "from iqm.benchmarks.entanglement.ghz import *\n",
    "backend = \"deneb\""
   ]
  },
  {
   "cell_type": "markdown",
   "id": "e74946d29adbd96a",
   "metadata": {},
   "source": [
    "## Set IQM Token if using Resonance."
   ]
  },
  {
   "cell_type": "code",
   "execution_count": null,
   "id": "fad1b158a1d7fdb2",
   "metadata": {
    "ExecuteTime": {
     "end_time": "2025-02-03T16:56:46.400003Z",
     "start_time": "2025-02-03T16:56:46.398588Z"
    }
   },
   "outputs": [],
   "source": [
    "import os\n",
    "os.environ[\"IQM_TOKEN\"] = \"\""
   ]
  },
  {
   "cell_type": "markdown",
   "id": "8b80d21e-1bf1-490f-870a-fac14ad421de",
   "metadata": {},
   "source": [
    "## Definition of the benchmark configuration\n",
    "The important parameters are:\n",
    "* ``custom_qubits_array``: A ``list[list[int]]`` which includes all qubit layouts on which the benchmark is run.\n",
    "* ``shots``: The number of shots for the fidelity measurement\n",
    "* ``fidelity_routine``: Either \"coherences\" or \"randomized_measurements\"\n",
    "* ``rem``: Boolean value that controls whether readout error mitigation is used\n",
    "* ``mit_shots``: Whenever rem=True, this parameter controls the total number of shots used to calibrate readout error mitgation\n",
    "* ``num_RMs``: The number of randomized measurement settings (only necessary when choosing ``fidelity_routine=randomized_measurements``)"
   ]
  },
  {
   "cell_type": "code",
   "execution_count": null,
   "id": "0028204b-d013-4202-b592-1cf86047fc22",
   "metadata": {
    "ExecuteTime": {
     "end_time": "2025-02-03T16:56:46.402573Z",
     "start_time": "2025-02-03T16:56:46.400501Z"
    }
   },
   "outputs": [],
   "source": [
    "num_qubits = 7\n",
    "MINIMAL_GHZ = GHZConfiguration(\n",
    "    state_generation_routine=\"star\",\n",
    "            custom_qubits_array=[\n",
    "            list(range(1,x+1)) for x in range(2,num_qubits) ## layout of qubits to run the benchmark on. Note that for Deneb 0 is reserved for the resontor.\n",
    "            ],\n",
    "    shots=2000, ## can change the number of shots\n",
    "    fidelity_routine=\"coherences\",  ## use multiple coherence method \n",
    "    rem=True,\n",
    "    mit_shots=1000, #can change the number of mitigation shots\n",
    ")"
   ]
  },
  {
   "cell_type": "markdown",
   "id": "bc253129-4f0d-4a9e-aff1-852c2e7d4e21",
   "metadata": {},
   "source": [
    "## Running the benchmark"
   ]
  },
  {
   "cell_type": "code",
   "execution_count": null,
   "id": "3ca4c757-9b58-4ee6-b9b6-365e22e3b378",
   "metadata": {
    "ExecuteTime": {
     "end_time": "2025-02-03T16:57:53.182944Z",
     "start_time": "2025-02-03T16:56:46.403219Z"
    }
   },
   "outputs": [],
   "source": [
    "benchmark_ghz = GHZBenchmark(backend, MINIMAL_GHZ)\n",
    "run_ghz = benchmark_ghz.run()"
   ]
  },
  {
   "cell_type": "code",
   "execution_count": null,
   "id": "c20f246c-9fd0-4399-96a9-3755ccbfd81e",
   "metadata": {
    "ExecuteTime": {
     "end_time": "2025-02-03T16:57:53.427294Z",
     "start_time": "2025-02-03T16:57:53.185436Z"
    }
   },
   "outputs": [],
   "source": [
    "result = benchmark_ghz.analyze()\n",
    "result.plot_all()"
   ]
  },
  {
   "cell_type": "markdown",
   "id": "e44b953d7899adb1",
   "metadata": {},
   "source": []
  },
  {
   "cell_type": "markdown",
   "id": "11f39392-7350-4010-bec4-08ca4c6ed908",
   "metadata": {},
   "source": [
    "## Accessing the results\n",
    "To see individual fidelitiy and uncertainty values of a given qubit layout, one can filter the ``result.observations``-list by layout as shown below. \n",
    "\n",
    "The plot allows a comparison of all layout results with and without REM, where the data point description labels \"L0\", \"L1\", ... enumerate the layouts in the order defined in the configuration."
   ]
  },
  {
   "cell_type": "code",
   "execution_count": null,
   "id": "c73a723e",
   "metadata": {},
   "outputs": [],
   "source": [
    "result.observations"
   ]
  },
  {
   "cell_type": "code",
   "execution_count": null,
   "id": "caa2ee75",
   "metadata": {},
   "outputs": [],
   "source": [
    "result.observations\n",
    "Fid = [x.value for x in result.observations[::2]]\n",
    "Fid_rem = [x.value for x in result.observations[1::2]]\n"
   ]
  },
  {
   "cell_type": "code",
   "execution_count": null,
   "id": "b3e2e2be",
   "metadata": {},
   "outputs": [],
   "source": [
    "## store data\n",
    "import pickle\n",
    "import os\n",
    "from datetime import datetime\n",
    "\n",
    "date_str = datetime.now().strftime(\"%Y-%m-%d\")\n",
    "save_dir = f\"data_ghz_{date_str}\"\n",
    "os.makedirs(save_dir, exist_ok=True)\n",
    "\n",
    "# Function to save a list as a pickle file\n",
    "def save_pickle(data, filename):\n",
    "    with open(filename, \"wb\") as f:\n",
    "        pickle.dump(data, f)\n",
    "\n",
    "# Save each list separately\n",
    "save_pickle(Fid, os.path.join(save_dir, \"fidelity.pkl\"))\n",
    "save_pickle(Fid_rem, os.path.join(save_dir, \"fidelity_rem.pkl\"))\n",
    "\n",
    "\n",
    "print(f\"Pickle files saved in {save_dir}\")"
   ]
  }
 ],
 "metadata": {
  "kernelspec": {
   "display_name": "env-iqm-benchmarks",
   "language": "python",
   "name": "python3"
  },
  "language_info": {
   "codemirror_mode": {
    "name": "ipython",
    "version": 3
   },
   "file_extension": ".py",
   "mimetype": "text/x-python",
   "name": "python",
   "nbconvert_exporter": "python",
   "pygments_lexer": "ipython3",
   "version": "3.11.11"
  }
 },
 "nbformat": 4,
 "nbformat_minor": 5
}
