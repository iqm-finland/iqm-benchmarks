{
 "cells": [
  {
   "metadata": {},
   "cell_type": "markdown",
   "source": "# Error Per Layered Gate (EPLG)",
   "id": "ce153249321bfd6f"
  },
  {
   "metadata": {
    "ExecuteTime": {
     "end_time": "2025-03-18T12:05:46.540772Z",
     "start_time": "2025-03-18T12:05:46.445927Z"
    }
   },
   "cell_type": "code",
   "source": [
    "%load_ext autoreload\n",
    "%autoreload 2"
   ],
   "id": "ee10e352b32fb3d4",
   "outputs": [],
   "execution_count": 3
  },
  {
   "metadata": {},
   "cell_type": "markdown",
   "source": "## Set IQM Token if using Resonance.",
   "id": "4f9a7dfe466253a9"
  },
  {
   "metadata": {
    "ExecuteTime": {
     "end_time": "2025-03-18T12:05:46.581169Z",
     "start_time": "2025-03-18T12:05:46.545515Z"
    }
   },
   "cell_type": "code",
   "source": [
    "import os\n",
    "os.environ[\"IQM_TOKEN\"] = \"xxxxxxxxxx\""
   ],
   "id": "7ea688218eff0e8",
   "outputs": [],
   "execution_count": 4
  },
  {
   "metadata": {},
   "cell_type": "markdown",
   "source": "## Choose (or define) a backend",
   "id": "7b2c0baaae056a98"
  },
  {
   "metadata": {},
   "cell_type": "code",
   "source": [
    "from iqm.qiskit_iqm.iqm_provider import IQMProvider\n",
    "\n",
    "resonance_station=\"garnet\"\n",
    "iqm_url=f\"https://cocos.resonance.meetiqm.com/{resonance_station}\"\n",
    "cal_url=f\"https://api.resonance.meetiqm.com/quantum-computers/v1/{resonance_station}/calibrations\"\n",
    "provider = IQMProvider(iqm_url)\n",
    "backend = provider.get_backend()"
   ],
   "id": "77db75bbf79b52c0",
   "outputs": [],
   "execution_count": null
  },
  {
   "metadata": {},
   "cell_type": "markdown",
   "source": "## EPLG Configuration",
   "id": "19441a5edc71750a"
  },
  {
   "metadata": {},
   "cell_type": "code",
   "source": "from iqm.benchmarks.randomized_benchmarking.eplg.eplg import *",
   "id": "7026d5c1cafe74e1",
   "outputs": [],
   "execution_count": null
  },
  {
   "metadata": {
    "ExecuteTime": {
     "end_time": "2025-03-18T12:05:55.524618Z",
     "start_time": "2025-03-18T12:05:55.408588Z"
    }
   },
   "cell_type": "code",
   "source": [
    "EXAMPLE_EPLG = EPLGConfiguration(\n",
    "    drb_depths=sorted(list(set(np.geomspace(1, 200, num=10, endpoint=True, dtype=int).tolist())), reverse=True),\n",
    "    drb_circuit_samples=25,\n",
    "    shots=2**8,\n",
    "    chain_length=10,#backend.num_qubits - 1,\n",
    "    chain_path_samples=50,\n",
    "    num_disjoint_layers=3,\n",
    "    calibration_url=cal_url,\n",
    ")"
   ],
   "id": "d1d4901ef0f68b0b",
   "outputs": [],
   "execution_count": 7
  },
  {
   "metadata": {},
   "cell_type": "markdown",
   "source": "## Run the experiment",
   "id": "9d0c6be7e3d7fe0a"
  },
  {
   "metadata": {
    "ExecuteTime": {
     "end_time": "2025-03-18T12:22:22.536948Z",
     "start_time": "2025-03-18T12:06:51.834212Z"
    }
   },
   "cell_type": "code",
   "source": [
    "benchmark_eplg = EPLGBenchmark(backend, EXAMPLE_EPLG)\n",
    "run_eplg = benchmark_eplg.run()"
   ],
   "id": "1955c99546f57c5e",
   "outputs": [
    {
     "name": "stderr",
     "output_type": "stream",
     "text": [
      "2025-03-18 13:06:51,930 - iqm.benchmarks.logging_config - INFO - Generating linear chain path\n",
      "2025-03-18 13:06:52,129 - iqm.benchmarks.logging_config - INFO - Extracting the path that maximizes total 2Q calibration fidelity\n",
      "2025-03-18 13:06:59,769 - iqm.benchmarks.logging_config - INFO - Clifford dictionaries imported successfully !\n",
      "2025-03-18 13:06:59,770 - iqm.benchmarks.logging_config - INFO - Executing parallel Direct RB on qubits [(16, 11), (5, 10), (14, 15), (18, 17), (12, 7), (3, 4)]. Will generate and submit all 25 DRB circuits for each depth [200, 111, 61, 34, 18, 10, 5, 3, 1]\n",
      "2025-03-18 13:06:59,770 - iqm.benchmarks.logging_config - INFO - Depth 200\n",
      "2025-03-18 13:08:40,911 - iqm.benchmarks.logging_config - INFO - Submitting batch with 25 circuits corresponding to qubits [16, 11, 5, 10, 14, 15, 18, 17, 12, 7, 3, 4]\n",
      "C:\\Users\\PedroFigueroaRomero\\anaconda3\\envs\\iqm-bench\\Lib\\site-packages\\iqm\\qiskit_iqm\\iqm_provider.py:170: UserWarning: Unknown backend option(s): {'calibration_set_id'}\n",
      "  warnings.warn(f'Unknown backend option(s): {unknown_options}')\n",
      "2025-03-18 13:08:52,300 - iqm.benchmarks.logging_config - INFO - Job for depth 200 submitted successfully!\n",
      "2025-03-18 13:08:52,301 - iqm.benchmarks.logging_config - INFO - Depth 111\n",
      "2025-03-18 13:09:53,823 - iqm.benchmarks.logging_config - INFO - Submitting batch with 25 circuits corresponding to qubits [16, 11, 5, 10, 14, 15, 18, 17, 12, 7, 3, 4]\n",
      "2025-03-18 13:10:00,811 - iqm.benchmarks.logging_config - INFO - Job for depth 111 submitted successfully!\n",
      "2025-03-18 13:10:00,812 - iqm.benchmarks.logging_config - INFO - Depth 61\n",
      "2025-03-18 13:10:31,872 - iqm.benchmarks.logging_config - INFO - Submitting batch with 25 circuits corresponding to qubits [16, 11, 5, 10, 14, 15, 18, 17, 12, 7, 3, 4]\n",
      "2025-03-18 13:10:35,943 - iqm.benchmarks.logging_config - INFO - Job for depth 61 submitted successfully!\n",
      "2025-03-18 13:10:35,944 - iqm.benchmarks.logging_config - INFO - Depth 34\n",
      "2025-03-18 13:10:47,166 - iqm.benchmarks.logging_config - INFO - Submitting batch with 25 circuits corresponding to qubits [16, 11, 5, 10, 14, 15, 18, 17, 12, 7, 3, 4]\n",
      "2025-03-18 13:10:50,204 - iqm.benchmarks.logging_config - INFO - Job for depth 34 submitted successfully!\n",
      "2025-03-18 13:10:50,205 - iqm.benchmarks.logging_config - INFO - Depth 18\n",
      "2025-03-18 13:11:09,200 - iqm.benchmarks.logging_config - INFO - Submitting batch with 25 circuits corresponding to qubits [16, 11, 5, 10, 14, 15, 18, 17, 12, 7, 3, 4]\n",
      "2025-03-18 13:11:11,315 - iqm.benchmarks.logging_config - INFO - Job for depth 18 submitted successfully!\n",
      "2025-03-18 13:11:11,316 - iqm.benchmarks.logging_config - INFO - Depth 10\n",
      "2025-03-18 13:11:14,918 - iqm.benchmarks.logging_config - INFO - Submitting batch with 25 circuits corresponding to qubits [16, 11, 5, 10, 14, 15, 18, 17, 12, 7, 3, 4]\n",
      "2025-03-18 13:11:16,099 - iqm.benchmarks.logging_config - INFO - Job for depth 10 submitted successfully!\n",
      "2025-03-18 13:11:16,100 - iqm.benchmarks.logging_config - INFO - Depth 5\n",
      "2025-03-18 13:11:18,266 - iqm.benchmarks.logging_config - INFO - Submitting batch with 25 circuits corresponding to qubits [16, 11, 5, 10, 14, 15, 18, 17, 12, 7, 3, 4]\n",
      "2025-03-18 13:11:19,278 - iqm.benchmarks.logging_config - INFO - Job for depth 5 submitted successfully!\n",
      "2025-03-18 13:11:19,279 - iqm.benchmarks.logging_config - INFO - Depth 3\n",
      "2025-03-18 13:11:20,732 - iqm.benchmarks.logging_config - INFO - Submitting batch with 25 circuits corresponding to qubits [16, 11, 5, 10, 14, 15, 18, 17, 12, 7, 3, 4]\n",
      "2025-03-18 13:11:21,637 - iqm.benchmarks.logging_config - INFO - Job for depth 3 submitted successfully!\n",
      "2025-03-18 13:11:21,638 - iqm.benchmarks.logging_config - INFO - Depth 1\n",
      "2025-03-18 13:11:22,463 - iqm.benchmarks.logging_config - INFO - Submitting batch with 25 circuits corresponding to qubits [16, 11, 5, 10, 14, 15, 18, 17, 12, 7, 3, 4]\n",
      "2025-03-18 13:11:23,239 - iqm.benchmarks.logging_config - INFO - Job for depth 1 submitted successfully!\n",
      "2025-03-18 13:11:23,241 - iqm.benchmarks.logging_config - INFO - Executing parallel Direct RB on qubits [(11, 6), (10, 9), (15, 19), (17, 13), (7, 8), (4, 1)]. Will generate and submit all 25 DRB circuits for each depth [200, 111, 61, 34, 18, 10, 5, 3, 1]\n",
      "2025-03-18 13:11:23,242 - iqm.benchmarks.logging_config - INFO - Depth 200\n",
      "2025-03-18 13:13:15,358 - iqm.benchmarks.logging_config - INFO - Submitting batch with 25 circuits corresponding to qubits [11, 6, 10, 9, 15, 19, 17, 13, 7, 8, 4, 1]\n",
      "2025-03-18 13:13:28,354 - iqm.benchmarks.logging_config - INFO - Job for depth 200 submitted successfully!\n",
      "2025-03-18 13:13:28,355 - iqm.benchmarks.logging_config - INFO - Depth 111\n",
      "2025-03-18 13:14:23,335 - iqm.benchmarks.logging_config - INFO - Submitting batch with 25 circuits corresponding to qubits [11, 6, 10, 9, 15, 19, 17, 13, 7, 8, 4, 1]\n",
      "2025-03-18 13:14:29,533 - iqm.benchmarks.logging_config - INFO - Job for depth 111 submitted successfully!\n",
      "2025-03-18 13:14:29,534 - iqm.benchmarks.logging_config - INFO - Depth 61\n",
      "2025-03-18 13:15:11,435 - iqm.benchmarks.logging_config - INFO - Submitting batch with 25 circuits corresponding to qubits [11, 6, 10, 9, 15, 19, 17, 13, 7, 8, 4, 1]\n",
      "2025-03-18 13:15:15,705 - iqm.benchmarks.logging_config - INFO - Job for depth 61 submitted successfully!\n",
      "2025-03-18 13:15:15,706 - iqm.benchmarks.logging_config - INFO - Depth 34\n",
      "2025-03-18 13:15:27,264 - iqm.benchmarks.logging_config - INFO - Submitting batch with 25 circuits corresponding to qubits [11, 6, 10, 9, 15, 19, 17, 13, 7, 8, 4, 1]\n",
      "2025-03-18 13:15:30,464 - iqm.benchmarks.logging_config - INFO - Job for depth 34 submitted successfully!\n",
      "2025-03-18 13:15:30,466 - iqm.benchmarks.logging_config - INFO - Depth 18\n",
      "2025-03-18 13:15:37,286 - iqm.benchmarks.logging_config - INFO - Submitting batch with 25 circuits corresponding to qubits [11, 6, 10, 9, 15, 19, 17, 13, 7, 8, 4, 1]\n",
      "2025-03-18 13:15:39,302 - iqm.benchmarks.logging_config - INFO - Job for depth 18 submitted successfully!\n",
      "2025-03-18 13:15:39,302 - iqm.benchmarks.logging_config - INFO - Depth 10\n",
      "2025-03-18 13:15:42,992 - iqm.benchmarks.logging_config - INFO - Submitting batch with 25 circuits corresponding to qubits [11, 6, 10, 9, 15, 19, 17, 13, 7, 8, 4, 1]\n",
      "2025-03-18 13:15:44,164 - iqm.benchmarks.logging_config - INFO - Job for depth 10 submitted successfully!\n",
      "2025-03-18 13:15:44,165 - iqm.benchmarks.logging_config - INFO - Depth 5\n",
      "2025-03-18 13:15:46,287 - iqm.benchmarks.logging_config - INFO - Submitting batch with 25 circuits corresponding to qubits [11, 6, 10, 9, 15, 19, 17, 13, 7, 8, 4, 1]\n",
      "2025-03-18 13:15:47,254 - iqm.benchmarks.logging_config - INFO - Job for depth 5 submitted successfully!\n",
      "2025-03-18 13:15:47,255 - iqm.benchmarks.logging_config - INFO - Depth 3\n",
      "2025-03-18 13:15:48,833 - iqm.benchmarks.logging_config - INFO - Submitting batch with 25 circuits corresponding to qubits [11, 6, 10, 9, 15, 19, 17, 13, 7, 8, 4, 1]\n",
      "2025-03-18 13:15:49,623 - iqm.benchmarks.logging_config - INFO - Job for depth 3 submitted successfully!\n",
      "2025-03-18 13:15:49,623 - iqm.benchmarks.logging_config - INFO - Depth 1\n",
      "2025-03-18 13:15:50,457 - iqm.benchmarks.logging_config - INFO - Submitting batch with 25 circuits corresponding to qubits [11, 6, 10, 9, 15, 19, 17, 13, 7, 8, 4, 1]\n",
      "2025-03-18 13:15:51,120 - iqm.benchmarks.logging_config - INFO - Job for depth 1 submitted successfully!\n",
      "2025-03-18 13:15:51,121 - iqm.benchmarks.logging_config - INFO - Executing parallel Direct RB on qubits [(6, 5), (9, 14), (19, 18), (13, 12), (8, 3), (1, 0)]. Will generate and submit all 25 DRB circuits for each depth [200, 111, 61, 34, 18, 10, 5, 3, 1]\n",
      "2025-03-18 13:15:51,122 - iqm.benchmarks.logging_config - INFO - Depth 200\n",
      "2025-03-18 13:17:55,908 - iqm.benchmarks.logging_config - INFO - Submitting batch with 25 circuits corresponding to qubits [6, 5, 9, 14, 19, 18, 13, 12, 8, 3, 1, 0]\n",
      "2025-03-18 13:18:12,508 - iqm.benchmarks.logging_config - INFO - Job for depth 200 submitted successfully!\n",
      "2025-03-18 13:18:12,509 - iqm.benchmarks.logging_config - INFO - Depth 111\n",
      "2025-03-18 13:19:31,762 - iqm.benchmarks.logging_config - INFO - Submitting batch with 25 circuits corresponding to qubits [6, 5, 9, 14, 19, 18, 13, 12, 8, 3, 1, 0]\n",
      "2025-03-18 13:19:41,353 - iqm.benchmarks.logging_config - INFO - Job for depth 111 submitted successfully!\n",
      "2025-03-18 13:19:41,353 - iqm.benchmarks.logging_config - INFO - Depth 61\n",
      "2025-03-18 13:20:04,329 - iqm.benchmarks.logging_config - INFO - Submitting batch with 25 circuits corresponding to qubits [6, 5, 9, 14, 19, 18, 13, 12, 8, 3, 1, 0]\n",
      "2025-03-18 13:20:09,907 - iqm.benchmarks.logging_config - INFO - Job for depth 61 submitted successfully!\n",
      "2025-03-18 13:20:09,908 - iqm.benchmarks.logging_config - INFO - Depth 34\n",
      "2025-03-18 13:20:25,490 - iqm.benchmarks.logging_config - INFO - Submitting batch with 25 circuits corresponding to qubits [6, 5, 9, 14, 19, 18, 13, 12, 8, 3, 1, 0]\n",
      "2025-03-18 13:20:28,972 - iqm.benchmarks.logging_config - INFO - Job for depth 34 submitted successfully!\n",
      "2025-03-18 13:20:28,972 - iqm.benchmarks.logging_config - INFO - Depth 18\n",
      "2025-03-18 13:20:36,548 - iqm.benchmarks.logging_config - INFO - Submitting batch with 25 circuits corresponding to qubits [6, 5, 9, 14, 19, 18, 13, 12, 8, 3, 1, 0]\n",
      "2025-03-18 13:20:38,705 - iqm.benchmarks.logging_config - INFO - Job for depth 18 submitted successfully!\n",
      "2025-03-18 13:20:38,706 - iqm.benchmarks.logging_config - INFO - Depth 10\n",
      "2025-03-18 13:20:42,823 - iqm.benchmarks.logging_config - INFO - Submitting batch with 25 circuits corresponding to qubits [6, 5, 9, 14, 19, 18, 13, 12, 8, 3, 1, 0]\n",
      "2025-03-18 13:20:44,724 - iqm.benchmarks.logging_config - INFO - Job for depth 10 submitted successfully!\n",
      "2025-03-18 13:20:44,725 - iqm.benchmarks.logging_config - INFO - Depth 5\n",
      "2025-03-18 13:20:47,453 - iqm.benchmarks.logging_config - INFO - Submitting batch with 25 circuits corresponding to qubits [6, 5, 9, 14, 19, 18, 13, 12, 8, 3, 1, 0]\n",
      "2025-03-18 13:20:48,705 - iqm.benchmarks.logging_config - INFO - Job for depth 5 submitted successfully!\n",
      "2025-03-18 13:20:48,706 - iqm.benchmarks.logging_config - INFO - Depth 3\n",
      "2025-03-18 13:20:50,268 - iqm.benchmarks.logging_config - INFO - Submitting batch with 25 circuits corresponding to qubits [6, 5, 9, 14, 19, 18, 13, 12, 8, 3, 1, 0]\n",
      "2025-03-18 13:20:51,131 - iqm.benchmarks.logging_config - INFO - Job for depth 3 submitted successfully!\n",
      "2025-03-18 13:20:51,131 - iqm.benchmarks.logging_config - INFO - Depth 1\n",
      "2025-03-18 13:20:52,037 - iqm.benchmarks.logging_config - INFO - Submitting batch with 25 circuits corresponding to qubits [6, 5, 9, 14, 19, 18, 13, 12, 8, 3, 1, 0]\n",
      "2025-03-18 13:20:52,809 - iqm.benchmarks.logging_config - INFO - Job for depth 1 submitted successfully!\n",
      "2025-03-18 13:20:52,812 - iqm.benchmarks.logging_config - INFO - Retrieving all counts for qubits_[(16, 11), (5, 10), (14, 15), (18, 17), (12, 7), (3, 4)]_depth_200\n",
      "2025-03-18 13:21:35,965 - iqm.benchmarks.logging_config - INFO - Adding counts of qubits [(16, 11), (5, 10), (14, 15), (18, 17), (12, 7), (3, 4)] and depth 200 run to the dataset\n",
      "2025-03-18 13:21:36,220 - iqm.benchmarks.logging_config - INFO - Retrieving all counts for qubits_[(16, 11), (5, 10), (14, 15), (18, 17), (12, 7), (3, 4)]_depth_111\n",
      "2025-03-18 13:21:38,207 - iqm.benchmarks.logging_config - INFO - Adding counts of qubits [(16, 11), (5, 10), (14, 15), (18, 17), (12, 7), (3, 4)] and depth 111 run to the dataset\n",
      "2025-03-18 13:21:38,434 - iqm.benchmarks.logging_config - INFO - Retrieving all counts for qubits_[(16, 11), (5, 10), (14, 15), (18, 17), (12, 7), (3, 4)]_depth_61\n",
      "2025-03-18 13:21:39,815 - iqm.benchmarks.logging_config - INFO - Adding counts of qubits [(16, 11), (5, 10), (14, 15), (18, 17), (12, 7), (3, 4)] and depth 61 run to the dataset\n",
      "2025-03-18 13:21:40,063 - iqm.benchmarks.logging_config - INFO - Retrieving all counts for qubits_[(16, 11), (5, 10), (14, 15), (18, 17), (12, 7), (3, 4)]_depth_34\n",
      "2025-03-18 13:21:41,271 - iqm.benchmarks.logging_config - INFO - Adding counts of qubits [(16, 11), (5, 10), (14, 15), (18, 17), (12, 7), (3, 4)] and depth 34 run to the dataset\n",
      "2025-03-18 13:21:41,566 - iqm.benchmarks.logging_config - INFO - Retrieving all counts for qubits_[(16, 11), (5, 10), (14, 15), (18, 17), (12, 7), (3, 4)]_depth_18\n",
      "2025-03-18 13:21:42,406 - iqm.benchmarks.logging_config - INFO - Adding counts of qubits [(16, 11), (5, 10), (14, 15), (18, 17), (12, 7), (3, 4)] and depth 18 run to the dataset\n",
      "2025-03-18 13:21:42,727 - iqm.benchmarks.logging_config - INFO - Retrieving all counts for qubits_[(16, 11), (5, 10), (14, 15), (18, 17), (12, 7), (3, 4)]_depth_10\n",
      "2025-03-18 13:21:43,434 - iqm.benchmarks.logging_config - INFO - Adding counts of qubits [(16, 11), (5, 10), (14, 15), (18, 17), (12, 7), (3, 4)] and depth 10 run to the dataset\n",
      "2025-03-18 13:21:43,777 - iqm.benchmarks.logging_config - INFO - Retrieving all counts for qubits_[(16, 11), (5, 10), (14, 15), (18, 17), (12, 7), (3, 4)]_depth_5\n",
      "2025-03-18 13:21:44,453 - iqm.benchmarks.logging_config - INFO - Adding counts of qubits [(16, 11), (5, 10), (14, 15), (18, 17), (12, 7), (3, 4)] and depth 5 run to the dataset\n",
      "2025-03-18 13:21:44,830 - iqm.benchmarks.logging_config - INFO - Retrieving all counts for qubits_[(16, 11), (5, 10), (14, 15), (18, 17), (12, 7), (3, 4)]_depth_3\n",
      "2025-03-18 13:21:45,502 - iqm.benchmarks.logging_config - INFO - Adding counts of qubits [(16, 11), (5, 10), (14, 15), (18, 17), (12, 7), (3, 4)] and depth 3 run to the dataset\n",
      "2025-03-18 13:21:45,841 - iqm.benchmarks.logging_config - INFO - Retrieving all counts for qubits_[(16, 11), (5, 10), (14, 15), (18, 17), (12, 7), (3, 4)]_depth_1\n",
      "2025-03-18 13:21:46,433 - iqm.benchmarks.logging_config - INFO - Adding counts of qubits [(16, 11), (5, 10), (14, 15), (18, 17), (12, 7), (3, 4)] and depth 1 run to the dataset\n",
      "2025-03-18 13:21:46,797 - iqm.benchmarks.logging_config - INFO - Retrieving all counts for qubits_[(11, 6), (10, 9), (15, 19), (17, 13), (7, 8), (4, 1)]_depth_200\n",
      "2025-03-18 13:21:49,872 - iqm.benchmarks.logging_config - INFO - Adding counts of qubits [(11, 6), (10, 9), (15, 19), (17, 13), (7, 8), (4, 1)] and depth 200 run to the dataset\n",
      "2025-03-18 13:21:50,284 - iqm.benchmarks.logging_config - INFO - Retrieving all counts for qubits_[(11, 6), (10, 9), (15, 19), (17, 13), (7, 8), (4, 1)]_depth_111\n",
      "2025-03-18 13:21:52,246 - iqm.benchmarks.logging_config - INFO - Adding counts of qubits [(11, 6), (10, 9), (15, 19), (17, 13), (7, 8), (4, 1)] and depth 111 run to the dataset\n",
      "2025-03-18 13:21:52,665 - iqm.benchmarks.logging_config - INFO - Retrieving all counts for qubits_[(11, 6), (10, 9), (15, 19), (17, 13), (7, 8), (4, 1)]_depth_61\n",
      "2025-03-18 13:21:54,145 - iqm.benchmarks.logging_config - INFO - Adding counts of qubits [(11, 6), (10, 9), (15, 19), (17, 13), (7, 8), (4, 1)] and depth 61 run to the dataset\n",
      "2025-03-18 13:21:54,653 - iqm.benchmarks.logging_config - INFO - Retrieving all counts for qubits_[(11, 6), (10, 9), (15, 19), (17, 13), (7, 8), (4, 1)]_depth_34\n",
      "2025-03-18 13:21:55,663 - iqm.benchmarks.logging_config - INFO - Adding counts of qubits [(11, 6), (10, 9), (15, 19), (17, 13), (7, 8), (4, 1)] and depth 34 run to the dataset\n",
      "2025-03-18 13:21:56,153 - iqm.benchmarks.logging_config - INFO - Retrieving all counts for qubits_[(11, 6), (10, 9), (15, 19), (17, 13), (7, 8), (4, 1)]_depth_18\n",
      "2025-03-18 13:21:56,967 - iqm.benchmarks.logging_config - INFO - Adding counts of qubits [(11, 6), (10, 9), (15, 19), (17, 13), (7, 8), (4, 1)] and depth 18 run to the dataset\n",
      "2025-03-18 13:21:57,478 - iqm.benchmarks.logging_config - INFO - Retrieving all counts for qubits_[(11, 6), (10, 9), (15, 19), (17, 13), (7, 8), (4, 1)]_depth_10\n",
      "2025-03-18 13:21:58,198 - iqm.benchmarks.logging_config - INFO - Adding counts of qubits [(11, 6), (10, 9), (15, 19), (17, 13), (7, 8), (4, 1)] and depth 10 run to the dataset\n",
      "2025-03-18 13:21:58,740 - iqm.benchmarks.logging_config - INFO - Retrieving all counts for qubits_[(11, 6), (10, 9), (15, 19), (17, 13), (7, 8), (4, 1)]_depth_5\n",
      "2025-03-18 13:21:59,382 - iqm.benchmarks.logging_config - INFO - Adding counts of qubits [(11, 6), (10, 9), (15, 19), (17, 13), (7, 8), (4, 1)] and depth 5 run to the dataset\n",
      "2025-03-18 13:21:59,963 - iqm.benchmarks.logging_config - INFO - Retrieving all counts for qubits_[(11, 6), (10, 9), (15, 19), (17, 13), (7, 8), (4, 1)]_depth_3\n",
      "2025-03-18 13:22:00,528 - iqm.benchmarks.logging_config - INFO - Adding counts of qubits [(11, 6), (10, 9), (15, 19), (17, 13), (7, 8), (4, 1)] and depth 3 run to the dataset\n",
      "2025-03-18 13:22:01,139 - iqm.benchmarks.logging_config - INFO - Retrieving all counts for qubits_[(11, 6), (10, 9), (15, 19), (17, 13), (7, 8), (4, 1)]_depth_1\n",
      "2025-03-18 13:22:01,663 - iqm.benchmarks.logging_config - INFO - Adding counts of qubits [(11, 6), (10, 9), (15, 19), (17, 13), (7, 8), (4, 1)] and depth 1 run to the dataset\n",
      "2025-03-18 13:22:02,303 - iqm.benchmarks.logging_config - INFO - Retrieving all counts for qubits_[(6, 5), (9, 14), (19, 18), (13, 12), (8, 3), (1, 0)]_depth_200\n",
      "2025-03-18 13:22:05,596 - iqm.benchmarks.logging_config - INFO - Adding counts of qubits [(6, 5), (9, 14), (19, 18), (13, 12), (8, 3), (1, 0)] and depth 200 run to the dataset\n",
      "2025-03-18 13:22:06,310 - iqm.benchmarks.logging_config - INFO - Retrieving all counts for qubits_[(6, 5), (9, 14), (19, 18), (13, 12), (8, 3), (1, 0)]_depth_111\n",
      "2025-03-18 13:22:08,292 - iqm.benchmarks.logging_config - INFO - Adding counts of qubits [(6, 5), (9, 14), (19, 18), (13, 12), (8, 3), (1, 0)] and depth 111 run to the dataset\n",
      "2025-03-18 13:22:09,028 - iqm.benchmarks.logging_config - INFO - Retrieving all counts for qubits_[(6, 5), (9, 14), (19, 18), (13, 12), (8, 3), (1, 0)]_depth_61\n",
      "2025-03-18 13:22:10,418 - iqm.benchmarks.logging_config - INFO - Adding counts of qubits [(6, 5), (9, 14), (19, 18), (13, 12), (8, 3), (1, 0)] and depth 61 run to the dataset\n",
      "2025-03-18 13:22:11,216 - iqm.benchmarks.logging_config - INFO - Retrieving all counts for qubits_[(6, 5), (9, 14), (19, 18), (13, 12), (8, 3), (1, 0)]_depth_34\n",
      "2025-03-18 13:22:12,221 - iqm.benchmarks.logging_config - INFO - Adding counts of qubits [(6, 5), (9, 14), (19, 18), (13, 12), (8, 3), (1, 0)] and depth 34 run to the dataset\n",
      "2025-03-18 13:22:13,124 - iqm.benchmarks.logging_config - INFO - Retrieving all counts for qubits_[(6, 5), (9, 14), (19, 18), (13, 12), (8, 3), (1, 0)]_depth_18\n",
      "2025-03-18 13:22:14,006 - iqm.benchmarks.logging_config - INFO - Adding counts of qubits [(6, 5), (9, 14), (19, 18), (13, 12), (8, 3), (1, 0)] and depth 18 run to the dataset\n",
      "2025-03-18 13:22:15,088 - iqm.benchmarks.logging_config - INFO - Retrieving all counts for qubits_[(6, 5), (9, 14), (19, 18), (13, 12), (8, 3), (1, 0)]_depth_10\n",
      "2025-03-18 13:22:15,848 - iqm.benchmarks.logging_config - INFO - Adding counts of qubits [(6, 5), (9, 14), (19, 18), (13, 12), (8, 3), (1, 0)] and depth 10 run to the dataset\n",
      "2025-03-18 13:22:16,951 - iqm.benchmarks.logging_config - INFO - Retrieving all counts for qubits_[(6, 5), (9, 14), (19, 18), (13, 12), (8, 3), (1, 0)]_depth_5\n",
      "2025-03-18 13:22:17,628 - iqm.benchmarks.logging_config - INFO - Adding counts of qubits [(6, 5), (9, 14), (19, 18), (13, 12), (8, 3), (1, 0)] and depth 5 run to the dataset\n",
      "2025-03-18 13:22:18,826 - iqm.benchmarks.logging_config - INFO - Retrieving all counts for qubits_[(6, 5), (9, 14), (19, 18), (13, 12), (8, 3), (1, 0)]_depth_3\n",
      "2025-03-18 13:22:19,444 - iqm.benchmarks.logging_config - INFO - Adding counts of qubits [(6, 5), (9, 14), (19, 18), (13, 12), (8, 3), (1, 0)] and depth 3 run to the dataset\n",
      "2025-03-18 13:22:20,655 - iqm.benchmarks.logging_config - INFO - Retrieving all counts for qubits_[(6, 5), (9, 14), (19, 18), (13, 12), (8, 3), (1, 0)]_depth_1\n",
      "2025-03-18 13:22:21,185 - iqm.benchmarks.logging_config - INFO - Adding counts of qubits [(6, 5), (9, 14), (19, 18), (13, 12), (8, 3), (1, 0)] and depth 1 run to the dataset\n",
      "2025-03-18 13:22:22,517 - iqm.benchmarks.logging_config - INFO - DRB experiment execution concluded !\n"
     ]
    }
   ],
   "execution_count": 8
  },
  {
   "metadata": {},
   "cell_type": "markdown",
   "source": "## Perform the analysis",
   "id": "8ec59869f4a216c5"
  },
  {
   "metadata": {
    "ExecuteTime": {
     "end_time": "2025-03-18T12:37:53.258352Z",
     "start_time": "2025-03-18T12:37:49.961650Z"
    }
   },
   "cell_type": "code",
   "source": "result_eplg = benchmark_eplg.analyze()",
   "id": "f56667daf1b05a19",
   "outputs": [
    {
     "name": "stderr",
     "output_type": "stream",
     "text": [
      "2025-03-18 13:37:50,515 - iqm.benchmarks.logging_config - INFO - Post-processing parallel Direct RB on qubits [(16, 11), (5, 10), (14, 15), (18, 17), (12, 7), (3, 4)].\n",
      "2025-03-18 13:37:50,547 - iqm.benchmarks.logging_config - INFO - Depth 200\n",
      "2025-03-18 13:37:50,653 - iqm.benchmarks.logging_config - INFO - Depth 111\n",
      "2025-03-18 13:37:50,761 - iqm.benchmarks.logging_config - INFO - Depth 61\n",
      "2025-03-18 13:37:50,891 - iqm.benchmarks.logging_config - INFO - Depth 34\n",
      "2025-03-18 13:37:50,991 - iqm.benchmarks.logging_config - INFO - Depth 18\n",
      "2025-03-18 13:37:51,066 - iqm.benchmarks.logging_config - INFO - Depth 10\n",
      "2025-03-18 13:37:51,109 - iqm.benchmarks.logging_config - INFO - Depth 5\n",
      "2025-03-18 13:37:51,146 - iqm.benchmarks.logging_config - INFO - Depth 3\n",
      "2025-03-18 13:37:51,177 - iqm.benchmarks.logging_config - INFO - Depth 1\n",
      "2025-03-18 13:37:51,393 - iqm.benchmarks.logging_config - INFO - Post-processing parallel Direct RB on qubits [(11, 6), (10, 9), (15, 19), (17, 13), (7, 8), (4, 1)].\n",
      "2025-03-18 13:37:51,420 - iqm.benchmarks.logging_config - INFO - Depth 200\n",
      "2025-03-18 13:37:51,502 - iqm.benchmarks.logging_config - INFO - Depth 111\n",
      "2025-03-18 13:37:51,587 - iqm.benchmarks.logging_config - INFO - Depth 61\n",
      "2025-03-18 13:37:51,670 - iqm.benchmarks.logging_config - INFO - Depth 34\n",
      "2025-03-18 13:37:51,754 - iqm.benchmarks.logging_config - INFO - Depth 18\n",
      "2025-03-18 13:37:51,812 - iqm.benchmarks.logging_config - INFO - Depth 10\n",
      "2025-03-18 13:37:51,863 - iqm.benchmarks.logging_config - INFO - Depth 5\n",
      "2025-03-18 13:37:51,903 - iqm.benchmarks.logging_config - INFO - Depth 3\n",
      "2025-03-18 13:37:51,936 - iqm.benchmarks.logging_config - INFO - Depth 1\n",
      "2025-03-18 13:37:52,132 - iqm.benchmarks.logging_config - INFO - Post-processing parallel Direct RB on qubits [(6, 5), (9, 14), (19, 18), (13, 12), (8, 3), (1, 0)].\n",
      "2025-03-18 13:37:52,159 - iqm.benchmarks.logging_config - INFO - Depth 200\n",
      "2025-03-18 13:37:52,246 - iqm.benchmarks.logging_config - INFO - Depth 111\n",
      "2025-03-18 13:37:52,330 - iqm.benchmarks.logging_config - INFO - Depth 61\n",
      "2025-03-18 13:37:52,409 - iqm.benchmarks.logging_config - INFO - Depth 34\n",
      "2025-03-18 13:37:52,474 - iqm.benchmarks.logging_config - INFO - Depth 18\n",
      "2025-03-18 13:37:52,528 - iqm.benchmarks.logging_config - INFO - Depth 10\n",
      "2025-03-18 13:37:52,567 - iqm.benchmarks.logging_config - INFO - Depth 5\n",
      "2025-03-18 13:37:52,597 - iqm.benchmarks.logging_config - INFO - Depth 3\n",
      "2025-03-18 13:37:52,626 - iqm.benchmarks.logging_config - INFO - Depth 1\n"
     ]
    }
   ],
   "execution_count": 20
  },
  {
   "metadata": {
    "ExecuteTime": {
     "end_time": "2025-03-18T12:37:53.372169Z",
     "start_time": "2025-03-18T12:37:53.264831Z"
    }
   },
   "cell_type": "code",
   "source": "run_eplg.dataset.attrs.keys()",
   "id": "91849c7f98d3b8ed",
   "outputs": [
    {
     "data": {
      "text/plain": [
       "dict_keys(['session_timestamp', 'execution_timestamp', 'backend_configuration_name', 'backend_name', 'benchmark', 'shots', 'max_gates_per_batch', 'calset_id', 'routing_method', 'physical_layout', 'use_dd', 'dd_strategy', 'qubits_array', 'is_eplg', 'parallel_execution', 'depths', 'num_circuit_samples', 'qiskit_optim_level', 'two_qubit_gate_ensembles', 'densities_2q_gates', 'clifford_sqg_probabilities', 'sqg_gate_ensembles', 'parallel_all_0', 0, 'parallel_all_1', 1, 'parallel_all_2', 2, 'backend', 'drb_depths', 'drb_circuit_samples', 'custom_qubits_array', 'chain_length', 'chain_path_samples', 'num_disjoint_layers', 'calibration_url'])"
      ]
     },
     "execution_count": 21,
     "metadata": {},
     "output_type": "execute_result"
    }
   ],
   "execution_count": 21
  },
  {
   "metadata": {
    "ExecuteTime": {
     "end_time": "2025-03-18T12:39:31.951375Z",
     "start_time": "2025-03-18T12:39:31.843875Z"
    }
   },
   "cell_type": "code",
   "source": [
    "for o in result_eplg.observations:\n",
    "    if o.name != \"EPLG\":\n",
    "        print(f\"{o.name} {o.identifier.qubit_indices}: {100*o.value:.2f} +/- {100*o.uncertainty:.2f} %\")\n",
    "    else:\n",
    "        print(f\"\\n{o.name} {o.identifier.qubit_indices}: {o.value:.2e} +/- {o.uncertainty:.2e}\")"
   ],
   "id": "d78f9897a7995e37",
   "outputs": [
    {
     "name": "stdout",
     "output_type": "stream",
     "text": [
      "avg_gate_fidelity (16, 11): 98.43 +/- 0.05 %\n",
      "avg_gate_fidelity (5, 10): 96.60 +/- 0.17 %\n",
      "avg_gate_fidelity (14, 15): 97.53 +/- 0.04 %\n",
      "avg_gate_fidelity (18, 17): 98.33 +/- 0.05 %\n",
      "avg_gate_fidelity (12, 7): 93.15 +/- 0.42 %\n",
      "avg_gate_fidelity (3, 4): 97.55 +/- 0.09 %\n",
      "avg_gate_fidelity (11, 6): 97.58 +/- 0.05 %\n",
      "avg_gate_fidelity (10, 9): 96.84 +/- 0.12 %\n",
      "avg_gate_fidelity (15, 19): 96.89 +/- 0.10 %\n",
      "avg_gate_fidelity (17, 13): 97.08 +/- 0.08 %\n",
      "avg_gate_fidelity (7, 8): 94.86 +/- 0.11 %\n",
      "avg_gate_fidelity (4, 1): 97.25 +/- 0.10 %\n",
      "avg_gate_fidelity (6, 5): 97.70 +/- 0.12 %\n",
      "avg_gate_fidelity (9, 14): 98.08 +/- 0.05 %\n",
      "avg_gate_fidelity (19, 18): 98.37 +/- 0.04 %\n",
      "avg_gate_fidelity (13, 12): 97.42 +/- 0.08 %\n",
      "avg_gate_fidelity (8, 3): 98.05 +/- 0.04 %\n",
      "avg_gate_fidelity (1, 0): 97.91 +/- 0.05 %\n",
      "Layer Fidelity (n_qubits=19): 59.89 +/- 1.76 %\n",
      "\n",
      "EPLG (n_qubits=19): 2.81e-02 +/- 1.76e-02\n"
     ]
    }
   ],
   "execution_count": 25
  },
  {
   "metadata": {},
   "cell_type": "code",
   "outputs": [],
   "execution_count": null,
   "source": "",
   "id": "330c5334df90919e"
  }
 ],
 "metadata": {
  "kernelspec": {
   "name": "iqm-bench",
   "language": "python",
   "display_name": "iqm-bench"
  }
 },
 "nbformat": 5,
 "nbformat_minor": 9
}
