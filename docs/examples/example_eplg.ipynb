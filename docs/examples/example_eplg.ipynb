{
 "cells": [
  {
   "metadata": {},
   "cell_type": "markdown",
   "source": "# Error Per Layered Gate (EPLG)",
   "id": "ce153249321bfd6f"
  },
  {
   "metadata": {
    "ExecuteTime": {
     "end_time": "2025-03-19T16:48:48.863786Z",
     "start_time": "2025-03-19T16:48:48.785279Z"
    }
   },
   "cell_type": "code",
   "source": [
    "%load_ext autoreload\n",
    "%autoreload 2"
   ],
   "id": "ee10e352b32fb3d4",
   "outputs": [],
   "execution_count": 1
  },
  {
   "metadata": {},
   "cell_type": "markdown",
   "source": "## Set IQM Token if using Resonance.",
   "id": "4f9a7dfe466253a9"
  },
  {
   "metadata": {
    "ExecuteTime": {
     "end_time": "2025-03-19T16:48:48.896284Z",
     "start_time": "2025-03-19T16:48:48.868794Z"
    }
   },
   "cell_type": "code",
   "source": [
    "# import os\n",
    "# os.environ[\"IQM_TOKEN\"] = \"xxxxxxxxxxxxxxx\""
   ],
   "id": "7ea688218eff0e8",
   "outputs": [],
   "execution_count": 2
  },
  {
   "metadata": {},
   "cell_type": "markdown",
   "source": "## Choose (or define) a backend",
   "id": "7b2c0baaae056a98"
  },
  {
   "metadata": {
    "ExecuteTime": {
     "end_time": "2025-03-19T16:48:49.173286Z",
     "start_time": "2025-03-19T16:48:49.077736Z"
    }
   },
   "cell_type": "code",
   "source": [
    "# from iqm.qiskit_iqm.iqm_provider import IQMProvider\n",
    "#\n",
    "# resonance_station=\"xxxxxxxxxxxxxxxxxxxx\"\n",
    "# iqm_url=f\"https://cocos.resonance.meetiqm.com/{resonance_station}\"\n",
    "# cal_url=f\"https://api.resonance.meetiqm.com/quantum-computers/v1/{resonance_station}/calibrations\"\n",
    "# provider = IQMProvider(iqm_url)\n",
    "# backend = provider.get_backend()"
   ],
   "id": "77db75bbf79b52c0",
   "outputs": [],
   "execution_count": 3
  },
  {
   "metadata": {},
   "cell_type": "code",
   "source": [
    "from iqm.benchmarks.utils import get_iqm_backend\n",
    "\n",
    "backend = get_iqm_backend(\"iqmfakeapollo\")"
   ],
   "id": "e2963f77e55bec7",
   "outputs": [],
   "execution_count": null
  },
  {
   "metadata": {},
   "cell_type": "markdown",
   "source": "## EPLG Configuration",
   "id": "19441a5edc71750a"
  },
  {
   "metadata": {
    "ExecuteTime": {
     "end_time": "2025-03-19T16:48:53.296381Z",
     "start_time": "2025-03-19T16:48:53.171567Z"
    }
   },
   "cell_type": "code",
   "source": "from iqm.benchmarks.randomized_benchmarking.eplg.eplg import *",
   "id": "7026d5c1cafe74e1",
   "outputs": [],
   "execution_count": 5
  },
  {
   "metadata": {
    "ExecuteTime": {
     "end_time": "2025-03-19T16:48:53.411624Z",
     "start_time": "2025-03-19T16:48:53.307994Z"
    }
   },
   "cell_type": "code",
   "source": [
    "EXAMPLE_EPLG = EPLGConfiguration(\n",
    "    custom_qubits_array=[[0,1],[1,4],[4,5],[5,6],[6,11],[11,16]],\n",
    "    drb_depths=sorted(list(set(np.geomspace(1, 200, num=10, endpoint=True, dtype=int).tolist())), reverse=True),\n",
    "    drb_circuit_samples=25,\n",
    "    shots=2**8,\n",
    "    chain_length=8,\n",
    "    chain_path_samples=100,\n",
    "    num_disjoint_layers=2,\n",
    ")"
   ],
   "id": "d1d4901ef0f68b0b",
   "outputs": [],
   "execution_count": 6
  },
  {
   "metadata": {},
   "cell_type": "markdown",
   "source": "## Run the experiment",
   "id": "9d0c6be7e3d7fe0a"
  },
  {
   "metadata": {
    "ExecuteTime": {
     "end_time": "2025-03-19T16:53:45.846408Z",
     "start_time": "2025-03-19T16:48:53.421629Z"
    }
   },
   "cell_type": "code",
   "source": [
    "benchmark_eplg = EPLGBenchmark(backend, EXAMPLE_EPLG)\n",
    "run_eplg = benchmark_eplg.run()"
   ],
   "id": "1955c99546f57c5e",
   "outputs": [
    {
     "name": "stderr",
     "output_type": "stream",
     "text": [
      "2025-03-19 17:48:53,519 - iqm.benchmarks.logging_config - INFO - WARNING: custom_qubits_array validation not yet implemented! Make sure it forms a linear chain.\n",
      "2025-03-19 17:49:01,379 - iqm.benchmarks.logging_config - INFO - Clifford dictionaries imported successfully !\n",
      "2025-03-19 17:49:01,380 - iqm.benchmarks.logging_config - INFO - Executing parallel Direct RB on qubits [[0, 1], [4, 5], [6, 11]] (group 1/2). Will generate and submit all 25 DRB circuits for each depth [200, 111, 61, 34, 18, 10, 5, 3, 1]\n",
      "2025-03-19 17:49:01,380 - iqm.benchmarks.logging_config - INFO - Depth 200\n",
      "2025-03-19 17:49:53,077 - iqm.benchmarks.logging_config - INFO - Submitting batch with 25 circuits corresponding to qubits [0, 1, 4, 5, 6, 11]\n",
      "2025-03-19 17:49:53,084 - iqm.benchmarks.logging_config - INFO - Job for depth 200 submitted successfully!\n",
      "2025-03-19 17:49:53,208 - iqm.benchmarks.logging_config - INFO - Depth 111\n",
      "2025-03-19 17:50:27,386 - iqm.benchmarks.logging_config - INFO - Submitting batch with 25 circuits corresponding to qubits [0, 1, 4, 5, 6, 11]\n",
      "2025-03-19 17:50:27,387 - iqm.benchmarks.logging_config - INFO - Job for depth 111 submitted successfully!\n",
      "2025-03-19 17:50:27,429 - iqm.benchmarks.logging_config - INFO - Depth 61\n",
      "2025-03-19 17:50:47,361 - iqm.benchmarks.logging_config - INFO - Submitting batch with 25 circuits corresponding to qubits [0, 1, 4, 5, 6, 11]\n",
      "2025-03-19 17:50:47,362 - iqm.benchmarks.logging_config - INFO - Job for depth 61 submitted successfully!\n",
      "2025-03-19 17:50:47,492 - iqm.benchmarks.logging_config - INFO - Depth 34\n",
      "2025-03-19 17:51:02,281 - iqm.benchmarks.logging_config - INFO - Submitting batch with 25 circuits corresponding to qubits [0, 1, 4, 5, 6, 11]\n",
      "2025-03-19 17:51:02,282 - iqm.benchmarks.logging_config - INFO - Job for depth 34 submitted successfully!\n",
      "2025-03-19 17:51:02,340 - iqm.benchmarks.logging_config - INFO - Depth 18\n",
      "2025-03-19 17:51:06,860 - iqm.benchmarks.logging_config - INFO - Submitting batch with 25 circuits corresponding to qubits [0, 1, 4, 5, 6, 11]\n",
      "2025-03-19 17:51:06,863 - iqm.benchmarks.logging_config - INFO - Job for depth 18 submitted successfully!\n",
      "2025-03-19 17:51:06,982 - iqm.benchmarks.logging_config - INFO - Depth 10\n",
      "2025-03-19 17:51:09,847 - iqm.benchmarks.logging_config - INFO - Submitting batch with 25 circuits corresponding to qubits [0, 1, 4, 5, 6, 11]\n",
      "2025-03-19 17:51:09,848 - iqm.benchmarks.logging_config - INFO - Job for depth 10 submitted successfully!\n",
      "2025-03-19 17:51:10,016 - iqm.benchmarks.logging_config - INFO - Depth 5\n",
      "2025-03-19 17:51:20,197 - iqm.benchmarks.logging_config - INFO - Submitting batch with 25 circuits corresponding to qubits [0, 1, 4, 5, 6, 11]\n",
      "2025-03-19 17:51:20,198 - iqm.benchmarks.logging_config - INFO - Job for depth 5 submitted successfully!\n",
      "2025-03-19 17:51:20,236 - iqm.benchmarks.logging_config - INFO - Depth 3\n",
      "2025-03-19 17:51:21,664 - iqm.benchmarks.logging_config - INFO - Submitting batch with 25 circuits corresponding to qubits [0, 1, 4, 5, 6, 11]\n",
      "2025-03-19 17:51:21,665 - iqm.benchmarks.logging_config - INFO - Job for depth 3 submitted successfully!\n",
      "2025-03-19 17:51:21,686 - iqm.benchmarks.logging_config - INFO - Depth 1\n",
      "2025-03-19 17:51:22,722 - iqm.benchmarks.logging_config - INFO - Submitting batch with 25 circuits corresponding to qubits [0, 1, 4, 5, 6, 11]\n",
      "2025-03-19 17:51:22,723 - iqm.benchmarks.logging_config - INFO - Job for depth 1 submitted successfully!\n",
      "2025-03-19 17:51:22,761 - iqm.benchmarks.logging_config - INFO - Executing parallel Direct RB on qubits [[1, 4], [5, 6], [11, 16]] (group 2/2). Will generate and submit all 25 DRB circuits for each depth [200, 111, 61, 34, 18, 10, 5, 3, 1]\n",
      "2025-03-19 17:51:22,777 - iqm.benchmarks.logging_config - INFO - Depth 200\n",
      "2025-03-19 17:52:14,678 - iqm.benchmarks.logging_config - INFO - Submitting batch with 25 circuits corresponding to qubits [1, 4, 5, 6, 11, 16]\n",
      "2025-03-19 17:52:14,679 - iqm.benchmarks.logging_config - INFO - Job for depth 200 submitted successfully!\n",
      "2025-03-19 17:52:14,700 - iqm.benchmarks.logging_config - INFO - Depth 111\n",
      "2025-03-19 17:52:51,649 - iqm.benchmarks.logging_config - INFO - Submitting batch with 25 circuits corresponding to qubits [1, 4, 5, 6, 11, 16]\n",
      "2025-03-19 17:52:51,651 - iqm.benchmarks.logging_config - INFO - Job for depth 111 submitted successfully!\n",
      "2025-03-19 17:52:51,750 - iqm.benchmarks.logging_config - INFO - Depth 61\n",
      "2025-03-19 17:53:17,589 - iqm.benchmarks.logging_config - INFO - Submitting batch with 25 circuits corresponding to qubits [1, 4, 5, 6, 11, 16]\n",
      "2025-03-19 17:53:17,590 - iqm.benchmarks.logging_config - INFO - Job for depth 61 submitted successfully!\n",
      "2025-03-19 17:53:17,625 - iqm.benchmarks.logging_config - INFO - Depth 34\n",
      "2025-03-19 17:53:25,316 - iqm.benchmarks.logging_config - INFO - Submitting batch with 25 circuits corresponding to qubits [1, 4, 5, 6, 11, 16]\n",
      "2025-03-19 17:53:25,317 - iqm.benchmarks.logging_config - INFO - Job for depth 34 submitted successfully!\n",
      "2025-03-19 17:53:25,317 - iqm.benchmarks.logging_config - INFO - Depth 18\n",
      "2025-03-19 17:53:30,044 - iqm.benchmarks.logging_config - INFO - Submitting batch with 25 circuits corresponding to qubits [1, 4, 5, 6, 11, 16]\n",
      "2025-03-19 17:53:30,046 - iqm.benchmarks.logging_config - INFO - Job for depth 18 submitted successfully!\n",
      "2025-03-19 17:53:30,116 - iqm.benchmarks.logging_config - INFO - Depth 10\n",
      "2025-03-19 17:53:33,194 - iqm.benchmarks.logging_config - INFO - Submitting batch with 25 circuits corresponding to qubits [1, 4, 5, 6, 11, 16]\n",
      "2025-03-19 17:53:33,195 - iqm.benchmarks.logging_config - INFO - Job for depth 10 submitted successfully!\n",
      "2025-03-19 17:53:33,229 - iqm.benchmarks.logging_config - INFO - Depth 5\n",
      "2025-03-19 17:53:35,120 - iqm.benchmarks.logging_config - INFO - Submitting batch with 25 circuits corresponding to qubits [1, 4, 5, 6, 11, 16]\n",
      "2025-03-19 17:53:35,121 - iqm.benchmarks.logging_config - INFO - Job for depth 5 submitted successfully!\n",
      "2025-03-19 17:53:35,162 - iqm.benchmarks.logging_config - INFO - Depth 3\n",
      "2025-03-19 17:53:36,700 - iqm.benchmarks.logging_config - INFO - Submitting batch with 25 circuits corresponding to qubits [1, 4, 5, 6, 11, 16]\n",
      "2025-03-19 17:53:36,701 - iqm.benchmarks.logging_config - INFO - Job for depth 3 submitted successfully!\n",
      "2025-03-19 17:53:36,740 - iqm.benchmarks.logging_config - INFO - Depth 1\n",
      "2025-03-19 17:53:37,816 - iqm.benchmarks.logging_config - INFO - Submitting batch with 25 circuits corresponding to qubits [1, 4, 5, 6, 11, 16]\n",
      "2025-03-19 17:53:37,817 - iqm.benchmarks.logging_config - INFO - Job for depth 1 submitted successfully!\n",
      "2025-03-19 17:53:37,964 - iqm.benchmarks.logging_config - INFO - Retrieving all counts for qubits_[[0, 1], [4, 5], [6, 11]]_depth_200\n",
      "2025-03-19 17:53:38,354 - iqm.benchmarks.logging_config - INFO - Adding counts of qubits [[0, 1], [4, 5], [6, 11]] and depth 200 run to the dataset\n",
      "2025-03-19 17:53:38,598 - iqm.benchmarks.logging_config - INFO - Retrieving all counts for qubits_[[0, 1], [4, 5], [6, 11]]_depth_111\n",
      "2025-03-19 17:53:38,603 - iqm.benchmarks.logging_config - INFO - Adding counts of qubits [[0, 1], [4, 5], [6, 11]] and depth 111 run to the dataset\n",
      "2025-03-19 17:53:38,848 - iqm.benchmarks.logging_config - INFO - Retrieving all counts for qubits_[[0, 1], [4, 5], [6, 11]]_depth_61\n",
      "2025-03-19 17:53:38,853 - iqm.benchmarks.logging_config - INFO - Adding counts of qubits [[0, 1], [4, 5], [6, 11]] and depth 61 run to the dataset\n",
      "2025-03-19 17:53:39,108 - iqm.benchmarks.logging_config - INFO - Retrieving all counts for qubits_[[0, 1], [4, 5], [6, 11]]_depth_34\n",
      "2025-03-19 17:53:39,113 - iqm.benchmarks.logging_config - INFO - Adding counts of qubits [[0, 1], [4, 5], [6, 11]] and depth 34 run to the dataset\n",
      "2025-03-19 17:53:39,379 - iqm.benchmarks.logging_config - INFO - Retrieving all counts for qubits_[[0, 1], [4, 5], [6, 11]]_depth_18\n",
      "2025-03-19 17:53:39,383 - iqm.benchmarks.logging_config - INFO - Adding counts of qubits [[0, 1], [4, 5], [6, 11]] and depth 18 run to the dataset\n",
      "2025-03-19 17:53:39,670 - iqm.benchmarks.logging_config - INFO - Retrieving all counts for qubits_[[0, 1], [4, 5], [6, 11]]_depth_10\n",
      "2025-03-19 17:53:39,674 - iqm.benchmarks.logging_config - INFO - Adding counts of qubits [[0, 1], [4, 5], [6, 11]] and depth 10 run to the dataset\n",
      "2025-03-19 17:53:39,990 - iqm.benchmarks.logging_config - INFO - Retrieving all counts for qubits_[[0, 1], [4, 5], [6, 11]]_depth_5\n",
      "2025-03-19 17:53:39,993 - iqm.benchmarks.logging_config - INFO - Adding counts of qubits [[0, 1], [4, 5], [6, 11]] and depth 5 run to the dataset\n",
      "2025-03-19 17:53:40,330 - iqm.benchmarks.logging_config - INFO - Retrieving all counts for qubits_[[0, 1], [4, 5], [6, 11]]_depth_3\n",
      "2025-03-19 17:53:40,335 - iqm.benchmarks.logging_config - INFO - Adding counts of qubits [[0, 1], [4, 5], [6, 11]] and depth 3 run to the dataset\n",
      "2025-03-19 17:53:40,701 - iqm.benchmarks.logging_config - INFO - Retrieving all counts for qubits_[[0, 1], [4, 5], [6, 11]]_depth_1\n",
      "2025-03-19 17:53:40,703 - iqm.benchmarks.logging_config - INFO - Adding counts of qubits [[0, 1], [4, 5], [6, 11]] and depth 1 run to the dataset\n",
      "2025-03-19 17:53:41,107 - iqm.benchmarks.logging_config - INFO - Retrieving all counts for qubits_[[1, 4], [5, 6], [11, 16]]_depth_200\n",
      "2025-03-19 17:53:41,111 - iqm.benchmarks.logging_config - INFO - Adding counts of qubits [[1, 4], [5, 6], [11, 16]] and depth 200 run to the dataset\n",
      "2025-03-19 17:53:41,516 - iqm.benchmarks.logging_config - INFO - Retrieving all counts for qubits_[[1, 4], [5, 6], [11, 16]]_depth_111\n",
      "2025-03-19 17:53:41,520 - iqm.benchmarks.logging_config - INFO - Adding counts of qubits [[1, 4], [5, 6], [11, 16]] and depth 111 run to the dataset\n",
      "2025-03-19 17:53:41,947 - iqm.benchmarks.logging_config - INFO - Retrieving all counts for qubits_[[1, 4], [5, 6], [11, 16]]_depth_61\n",
      "2025-03-19 17:53:41,951 - iqm.benchmarks.logging_config - INFO - Adding counts of qubits [[1, 4], [5, 6], [11, 16]] and depth 61 run to the dataset\n",
      "2025-03-19 17:53:42,409 - iqm.benchmarks.logging_config - INFO - Retrieving all counts for qubits_[[1, 4], [5, 6], [11, 16]]_depth_34\n",
      "2025-03-19 17:53:42,412 - iqm.benchmarks.logging_config - INFO - Adding counts of qubits [[1, 4], [5, 6], [11, 16]] and depth 34 run to the dataset\n",
      "2025-03-19 17:53:42,894 - iqm.benchmarks.logging_config - INFO - Retrieving all counts for qubits_[[1, 4], [5, 6], [11, 16]]_depth_18\n",
      "2025-03-19 17:53:42,898 - iqm.benchmarks.logging_config - INFO - Adding counts of qubits [[1, 4], [5, 6], [11, 16]] and depth 18 run to the dataset\n",
      "2025-03-19 17:53:43,418 - iqm.benchmarks.logging_config - INFO - Retrieving all counts for qubits_[[1, 4], [5, 6], [11, 16]]_depth_10\n",
      "2025-03-19 17:53:43,422 - iqm.benchmarks.logging_config - INFO - Adding counts of qubits [[1, 4], [5, 6], [11, 16]] and depth 10 run to the dataset\n",
      "2025-03-19 17:53:43,960 - iqm.benchmarks.logging_config - INFO - Retrieving all counts for qubits_[[1, 4], [5, 6], [11, 16]]_depth_5\n",
      "2025-03-19 17:53:43,963 - iqm.benchmarks.logging_config - INFO - Adding counts of qubits [[1, 4], [5, 6], [11, 16]] and depth 5 run to the dataset\n",
      "2025-03-19 17:53:44,554 - iqm.benchmarks.logging_config - INFO - Retrieving all counts for qubits_[[1, 4], [5, 6], [11, 16]]_depth_3\n",
      "2025-03-19 17:53:44,557 - iqm.benchmarks.logging_config - INFO - Adding counts of qubits [[1, 4], [5, 6], [11, 16]] and depth 3 run to the dataset\n",
      "2025-03-19 17:53:45,181 - iqm.benchmarks.logging_config - INFO - Retrieving all counts for qubits_[[1, 4], [5, 6], [11, 16]]_depth_1\n",
      "2025-03-19 17:53:45,182 - iqm.benchmarks.logging_config - INFO - Adding counts of qubits [[1, 4], [5, 6], [11, 16]] and depth 1 run to the dataset\n",
      "2025-03-19 17:53:45,831 - iqm.benchmarks.logging_config - INFO - DRB experiment execution concluded !\n"
     ]
    }
   ],
   "execution_count": 7
  },
  {
   "metadata": {},
   "cell_type": "markdown",
   "source": "## Perform the analysis",
   "id": "8ec59869f4a216c5"
  },
  {
   "metadata": {
    "ExecuteTime": {
     "end_time": "2025-03-19T16:53:48.240975Z",
     "start_time": "2025-03-19T16:53:45.940134Z"
    }
   },
   "cell_type": "code",
   "source": "result_eplg = benchmark_eplg.analyze()",
   "id": "f56667daf1b05a19",
   "outputs": [
    {
     "name": "stderr",
     "output_type": "stream",
     "text": [
      "2025-03-19 17:53:46,716 - iqm.benchmarks.logging_config - INFO - Post-processing parallel Direct RB on qubits [[0, 1], [4, 5], [6, 11]].\n",
      "2025-03-19 17:53:46,733 - iqm.benchmarks.logging_config - INFO - Depth 200\n",
      "2025-03-19 17:53:46,755 - iqm.benchmarks.logging_config - INFO - Depth 111\n",
      "2025-03-19 17:53:46,779 - iqm.benchmarks.logging_config - INFO - Depth 61\n",
      "2025-03-19 17:53:46,805 - iqm.benchmarks.logging_config - INFO - Depth 34\n",
      "2025-03-19 17:53:46,829 - iqm.benchmarks.logging_config - INFO - Depth 18\n",
      "2025-03-19 17:53:46,854 - iqm.benchmarks.logging_config - INFO - Depth 10\n",
      "2025-03-19 17:53:46,878 - iqm.benchmarks.logging_config - INFO - Depth 5\n",
      "2025-03-19 17:53:46,899 - iqm.benchmarks.logging_config - INFO - Depth 3\n",
      "2025-03-19 17:53:46,919 - iqm.benchmarks.logging_config - INFO - Depth 1\n",
      "2025-03-19 17:53:47,194 - iqm.benchmarks.logging_config - INFO - Post-processing parallel Direct RB on qubits [[1, 4], [5, 6], [11, 16]].\n",
      "2025-03-19 17:53:47,211 - iqm.benchmarks.logging_config - INFO - Depth 200\n",
      "2025-03-19 17:53:47,239 - iqm.benchmarks.logging_config - INFO - Depth 111\n",
      "2025-03-19 17:53:47,266 - iqm.benchmarks.logging_config - INFO - Depth 61\n",
      "2025-03-19 17:53:47,292 - iqm.benchmarks.logging_config - INFO - Depth 34\n",
      "2025-03-19 17:53:47,315 - iqm.benchmarks.logging_config - INFO - Depth 18\n",
      "2025-03-19 17:53:47,338 - iqm.benchmarks.logging_config - INFO - Depth 10\n",
      "2025-03-19 17:53:47,359 - iqm.benchmarks.logging_config - INFO - Depth 5\n",
      "2025-03-19 17:53:47,379 - iqm.benchmarks.logging_config - INFO - Depth 3\n",
      "2025-03-19 17:53:47,406 - iqm.benchmarks.logging_config - INFO - Depth 1\n"
     ]
    }
   ],
   "execution_count": 8
  },
  {
   "metadata": {
    "ExecuteTime": {
     "end_time": "2025-03-19T16:53:48.353493Z",
     "start_time": "2025-03-19T16:53:48.246386Z"
    }
   },
   "cell_type": "code",
   "source": "run_eplg.dataset.attrs.keys()",
   "id": "91849c7f98d3b8ed",
   "outputs": [
    {
     "data": {
      "text/plain": [
       "dict_keys(['session_timestamp', 'execution_timestamp', 'backend_configuration_name', 'backend_name', 'benchmark', 'shots', 'max_gates_per_batch', 'max_circuits_per_batch', 'calset_id', 'routing_method', 'physical_layout', 'use_dd', 'dd_strategy', 'qubits_array', 'is_eplg', 'parallel_execution', 'depths', 'num_circuit_samples', 'qiskit_optim_level', 'two_qubit_gate_ensembles', 'densities_2q_gates', 'clifford_sqg_probabilities', 'sqg_gate_ensembles', 'parallel_all_0', 0, 'parallel_all_1', 1, 'backend', 'drb_depths', 'drb_circuit_samples', 'custom_qubits_array', 'chain_length', 'chain_path_samples', 'num_disjoint_layers', 'calibration_url'])"
      ]
     },
     "execution_count": 9,
     "metadata": {},
     "output_type": "execute_result"
    }
   ],
   "execution_count": 9
  },
  {
   "metadata": {
    "ExecuteTime": {
     "end_time": "2025-03-19T16:53:48.535793Z",
     "start_time": "2025-03-19T16:53:48.431477Z"
    }
   },
   "cell_type": "code",
   "source": [
    "for o in result_eplg.observations:\n",
    "    if o.name != \"EPLG\":\n",
    "        print(f\"{o.name} {o.identifier.qubit_indices}: {100*o.value:.2f} +/- {100*o.uncertainty:.2f} %\")\n",
    "    else:\n",
    "        print(f\"\\n{o.name} {o.identifier.qubit_indices}: {o.value:.2e} +/- {o.uncertainty:.2e}\")"
   ],
   "id": "d78f9897a7995e37",
   "outputs": [
    {
     "name": "stdout",
     "output_type": "stream",
     "text": [
      "avg_gate_fidelity [0, 1]: 96.12 +/- 0.11 %\n",
      "avg_gate_fidelity [4, 5]: 96.30 +/- 0.16 %\n",
      "avg_gate_fidelity [6, 11]: 95.73 +/- 0.08 %\n",
      "avg_gate_fidelity [1, 4]: 96.16 +/- 0.07 %\n",
      "avg_gate_fidelity [5, 6]: 95.30 +/- 0.11 %\n",
      "avg_gate_fidelity [11, 16]: 95.66 +/- 0.13 %\n",
      "Layer Fidelity (n_qubits=8): 77.67 +/- 0.23 %\n",
      "\n",
      "EPLG (n_qubits=8): 4.12e-02 +/- 4.64e-04\n"
     ]
    }
   ],
   "execution_count": 10
  },
  {
   "metadata": {},
   "cell_type": "code",
   "outputs": [],
   "execution_count": null,
   "source": "",
   "id": "9b822ed16ce6c0e8"
  }
 ],
 "metadata": {
  "kernelspec": {
   "name": "iqm-bench",
   "language": "python",
   "display_name": "iqm-bench"
  }
 },
 "nbformat": 5,
 "nbformat_minor": 9
}
