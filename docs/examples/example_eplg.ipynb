{
 "cells": [
  {
   "metadata": {},
   "cell_type": "markdown",
   "source": "# Error Per Layered Gate (EPLG)",
   "id": "ce153249321bfd6f"
  },
  {
   "metadata": {},
   "cell_type": "code",
   "source": [
    "%load_ext autoreload\n",
    "%autoreload 2"
   ],
   "id": "ee10e352b32fb3d4",
   "outputs": [],
   "execution_count": null
  },
  {
   "metadata": {},
   "cell_type": "markdown",
   "source": "## Set IQM Token if using Resonance.",
   "id": "4f9a7dfe466253a9"
  },
  {
   "metadata": {},
   "cell_type": "code",
   "source": [
    "# import os\n",
    "# os.environ[\"IQM_TOKEN\"] = \"xxxxxxxxxxxxxxx\""
   ],
   "id": "7ea688218eff0e8",
   "outputs": [],
   "execution_count": null
  },
  {
   "metadata": {},
   "cell_type": "markdown",
   "source": "## Choose (or define) a backend",
   "id": "7b2c0baaae056a98"
  },
  {
   "metadata": {},
   "cell_type": "code",
   "source": [
    "# from iqm.qiskit_iqm.iqm_provider import IQMProvider\n",
    "#\n",
    "# resonance_station=\"xxxxxxxxxxxxxxxxxxxx\"\n",
    "# iqm_url=f\"https://cocos.resonance.meetiqm.com/{resonance_station}\"\n",
    "# cal_url=f\"https://api.resonance.meetiqm.com/quantum-computers/v1/{resonance_station}/calibrations\"\n",
    "# provider = IQMProvider(iqm_url)\n",
    "# backend = provider.get_backend()"
   ],
   "id": "77db75bbf79b52c0",
   "outputs": [],
   "execution_count": null
  },
  {
   "metadata": {},
   "cell_type": "code",
   "source": [
    "from iqm.benchmarks.utils import get_iqm_backend\n",
    "\n",
    "backend = get_iqm_backend(\"iqmfakeapollo\")"
   ],
   "id": "e2963f77e55bec7",
   "outputs": [],
   "execution_count": null
  },
  {
   "metadata": {},
   "cell_type": "markdown",
   "source": "## EPLG Configuration",
   "id": "19441a5edc71750a"
  },
  {
   "metadata": {
    "ExecuteTime": {
     "end_time": "2025-03-24T13:59:26.021186Z",
     "start_time": "2025-03-24T13:59:25.860003Z"
    }
   },
   "cell_type": "code",
   "source": "from iqm.benchmarks.randomized_benchmarking.eplg.eplg import *",
   "id": "7026d5c1cafe74e1",
   "outputs": [],
   "execution_count": 5
  },
  {
   "metadata": {
    "ExecuteTime": {
     "end_time": "2025-03-24T13:59:26.173912Z",
     "start_time": "2025-03-24T13:59:26.033226Z"
    }
   },
   "cell_type": "code",
   "source": [
    "EXAMPLE_EPLG = EPLGConfiguration(\n",
    "    custom_qubits_array=[[0,1],[1,4],[4,5],[5,6],[6,11],[11,16]],\n",
    "    drb_depths=sorted(list(set(np.geomspace(1, 200, num=10, endpoint=True, dtype=int).tolist())), reverse=True),\n",
    "    drb_circuit_samples=25,\n",
    "    shots=2**8,\n",
    "    chain_length=8,\n",
    "    chain_path_samples=100,\n",
    "    num_disjoint_layers=2,\n",
    ")"
   ],
   "id": "d1d4901ef0f68b0b",
   "outputs": [],
   "execution_count": 6
  },
  {
   "metadata": {},
   "cell_type": "markdown",
   "source": "## Run the experiment",
   "id": "9d0c6be7e3d7fe0a"
  },
  {
   "metadata": {
    "ExecuteTime": {
     "end_time": "2025-03-24T14:04:57.474519Z",
     "start_time": "2025-03-24T13:59:26.185510Z"
    }
   },
   "cell_type": "code",
   "source": [
    "benchmark_eplg = EPLGBenchmark(backend, EXAMPLE_EPLG)\n",
    "run_eplg = benchmark_eplg.run()"
   ],
   "id": "1955c99546f57c5e",
   "outputs": [
    {
     "name": "stderr",
     "output_type": "stream",
     "text": [
      "2025-03-24 14:59:26,320 - iqm.benchmarks.logging_config - INFO - WARNING: custom_qubits_array validation not yet implemented! Make sure it forms a linear chain.\n",
      "2025-03-24 14:59:34,561 - iqm.benchmarks.logging_config - INFO - Clifford dictionaries imported successfully !\n",
      "2025-03-24 14:59:34,563 - iqm.benchmarks.logging_config - INFO - Executing parallel Direct RB on qubits [[0, 1], [4, 5], [6, 11]] (group 1/2). Will generate and submit all 25 DRB circuits for each depth [200, 111, 61, 34, 18, 10, 5, 3, 1]\n",
      "2025-03-24 14:59:34,563 - iqm.benchmarks.logging_config - INFO - Depth 200\n",
      "2025-03-24 15:00:34,934 - iqm.benchmarks.logging_config - INFO - Submitting batch with 25 circuits corresponding to qubits [0, 1, 4, 5, 6, 11]\n",
      "2025-03-24 15:00:34,941 - iqm.benchmarks.logging_config - INFO - Job for depth 200 submitted successfully!\n",
      "2025-03-24 15:00:35,022 - iqm.benchmarks.logging_config - INFO - Depth 111\n",
      "2025-03-24 15:01:12,409 - iqm.benchmarks.logging_config - INFO - Submitting batch with 25 circuits corresponding to qubits [0, 1, 4, 5, 6, 11]\n",
      "2025-03-24 15:01:12,409 - iqm.benchmarks.logging_config - INFO - Job for depth 111 submitted successfully!\n",
      "2025-03-24 15:01:12,411 - iqm.benchmarks.logging_config - INFO - Depth 61\n",
      "2025-03-24 15:01:35,026 - iqm.benchmarks.logging_config - INFO - Submitting batch with 25 circuits corresponding to qubits [0, 1, 4, 5, 6, 11]\n",
      "2025-03-24 15:01:35,027 - iqm.benchmarks.logging_config - INFO - Job for depth 61 submitted successfully!\n",
      "2025-03-24 15:01:35,098 - iqm.benchmarks.logging_config - INFO - Depth 34\n",
      "2025-03-24 15:01:53,470 - iqm.benchmarks.logging_config - INFO - Submitting batch with 25 circuits corresponding to qubits [0, 1, 4, 5, 6, 11]\n",
      "2025-03-24 15:01:53,471 - iqm.benchmarks.logging_config - INFO - Job for depth 34 submitted successfully!\n",
      "2025-03-24 15:01:53,576 - iqm.benchmarks.logging_config - INFO - Depth 18\n",
      "2025-03-24 15:01:58,602 - iqm.benchmarks.logging_config - INFO - Submitting batch with 25 circuits corresponding to qubits [0, 1, 4, 5, 6, 11]\n",
      "2025-03-24 15:01:58,603 - iqm.benchmarks.logging_config - INFO - Job for depth 18 submitted successfully!\n",
      "2025-03-24 15:01:58,604 - iqm.benchmarks.logging_config - INFO - Depth 10\n",
      "2025-03-24 15:02:02,059 - iqm.benchmarks.logging_config - INFO - Submitting batch with 25 circuits corresponding to qubits [0, 1, 4, 5, 6, 11]\n",
      "2025-03-24 15:02:02,060 - iqm.benchmarks.logging_config - INFO - Job for depth 10 submitted successfully!\n",
      "2025-03-24 15:02:02,188 - iqm.benchmarks.logging_config - INFO - Depth 5\n",
      "2025-03-24 15:02:13,513 - iqm.benchmarks.logging_config - INFO - Submitting batch with 25 circuits corresponding to qubits [0, 1, 4, 5, 6, 11]\n",
      "2025-03-24 15:02:13,515 - iqm.benchmarks.logging_config - INFO - Job for depth 5 submitted successfully!\n",
      "2025-03-24 15:02:13,638 - iqm.benchmarks.logging_config - INFO - Depth 3\n",
      "2025-03-24 15:02:15,327 - iqm.benchmarks.logging_config - INFO - Submitting batch with 25 circuits corresponding to qubits [0, 1, 4, 5, 6, 11]\n",
      "2025-03-24 15:02:15,328 - iqm.benchmarks.logging_config - INFO - Job for depth 3 submitted successfully!\n",
      "2025-03-24 15:02:15,380 - iqm.benchmarks.logging_config - INFO - Depth 1\n",
      "2025-03-24 15:02:16,631 - iqm.benchmarks.logging_config - INFO - Submitting batch with 25 circuits corresponding to qubits [0, 1, 4, 5, 6, 11]\n",
      "2025-03-24 15:02:16,633 - iqm.benchmarks.logging_config - INFO - Job for depth 1 submitted successfully!\n",
      "2025-03-24 15:02:16,681 - iqm.benchmarks.logging_config - INFO - Executing parallel Direct RB on qubits [[1, 4], [5, 6], [11, 16]] (group 2/2). Will generate and submit all 25 DRB circuits for each depth [200, 111, 61, 34, 18, 10, 5, 3, 1]\n",
      "2025-03-24 15:02:16,835 - iqm.benchmarks.logging_config - INFO - Depth 200\n",
      "2025-03-24 15:03:15,116 - iqm.benchmarks.logging_config - INFO - Submitting batch with 25 circuits corresponding to qubits [1, 4, 5, 6, 11, 16]\n",
      "2025-03-24 15:03:15,120 - iqm.benchmarks.logging_config - INFO - Job for depth 200 submitted successfully!\n",
      "2025-03-24 15:03:15,121 - iqm.benchmarks.logging_config - INFO - Depth 111\n",
      "2025-03-24 15:03:55,527 - iqm.benchmarks.logging_config - INFO - Submitting batch with 25 circuits corresponding to qubits [1, 4, 5, 6, 11, 16]\n",
      "2025-03-24 15:03:55,528 - iqm.benchmarks.logging_config - INFO - Job for depth 111 submitted successfully!\n",
      "2025-03-24 15:03:55,605 - iqm.benchmarks.logging_config - INFO - Depth 61\n",
      "2025-03-24 15:04:25,292 - iqm.benchmarks.logging_config - INFO - Submitting batch with 25 circuits corresponding to qubits [1, 4, 5, 6, 11, 16]\n",
      "2025-03-24 15:04:25,294 - iqm.benchmarks.logging_config - INFO - Job for depth 61 submitted successfully!\n",
      "2025-03-24 15:04:25,321 - iqm.benchmarks.logging_config - INFO - Depth 34\n",
      "2025-03-24 15:04:33,721 - iqm.benchmarks.logging_config - INFO - Submitting batch with 25 circuits corresponding to qubits [1, 4, 5, 6, 11, 16]\n",
      "2025-03-24 15:04:33,722 - iqm.benchmarks.logging_config - INFO - Job for depth 34 submitted successfully!\n",
      "2025-03-24 15:04:33,756 - iqm.benchmarks.logging_config - INFO - Depth 18\n",
      "2025-03-24 15:04:38,669 - iqm.benchmarks.logging_config - INFO - Submitting batch with 25 circuits corresponding to qubits [1, 4, 5, 6, 11, 16]\n",
      "2025-03-24 15:04:38,671 - iqm.benchmarks.logging_config - INFO - Job for depth 18 submitted successfully!\n",
      "2025-03-24 15:04:38,671 - iqm.benchmarks.logging_config - INFO - Depth 10\n",
      "2025-03-24 15:04:42,051 - iqm.benchmarks.logging_config - INFO - Submitting batch with 25 circuits corresponding to qubits [1, 4, 5, 6, 11, 16]\n",
      "2025-03-24 15:04:42,052 - iqm.benchmarks.logging_config - INFO - Job for depth 10 submitted successfully!\n",
      "2025-03-24 15:04:42,103 - iqm.benchmarks.logging_config - INFO - Depth 5\n",
      "2025-03-24 15:04:44,339 - iqm.benchmarks.logging_config - INFO - Submitting batch with 25 circuits corresponding to qubits [1, 4, 5, 6, 11, 16]\n",
      "2025-03-24 15:04:44,341 - iqm.benchmarks.logging_config - INFO - Job for depth 5 submitted successfully!\n",
      "2025-03-24 15:04:44,423 - iqm.benchmarks.logging_config - INFO - Depth 3\n",
      "2025-03-24 15:04:46,069 - iqm.benchmarks.logging_config - INFO - Submitting batch with 25 circuits corresponding to qubits [1, 4, 5, 6, 11, 16]\n",
      "2025-03-24 15:04:46,070 - iqm.benchmarks.logging_config - INFO - Job for depth 3 submitted successfully!\n",
      "2025-03-24 15:04:46,207 - iqm.benchmarks.logging_config - INFO - Depth 1\n",
      "2025-03-24 15:04:47,423 - iqm.benchmarks.logging_config - INFO - Submitting batch with 25 circuits corresponding to qubits [1, 4, 5, 6, 11, 16]\n",
      "2025-03-24 15:04:47,425 - iqm.benchmarks.logging_config - INFO - Job for depth 1 submitted successfully!\n",
      "2025-03-24 15:04:47,477 - iqm.benchmarks.logging_config - INFO - Retrieving all counts for qubits_[[0, 1], [4, 5], [6, 11]]_depth_200\n",
      "2025-03-24 15:04:47,512 - iqm.benchmarks.logging_config - INFO - Adding counts of qubits [[0, 1], [4, 5], [6, 11]] and depth 200 run to the dataset\n",
      "2025-03-24 15:04:48,391 - iqm.benchmarks.logging_config - INFO - Retrieving all counts for qubits_[[0, 1], [4, 5], [6, 11]]_depth_111\n",
      "2025-03-24 15:04:48,400 - iqm.benchmarks.logging_config - INFO - Adding counts of qubits [[0, 1], [4, 5], [6, 11]] and depth 111 run to the dataset\n",
      "2025-03-24 15:04:48,706 - iqm.benchmarks.logging_config - INFO - Retrieving all counts for qubits_[[0, 1], [4, 5], [6, 11]]_depth_61\n",
      "2025-03-24 15:04:48,711 - iqm.benchmarks.logging_config - INFO - Adding counts of qubits [[0, 1], [4, 5], [6, 11]] and depth 61 run to the dataset\n",
      "2025-03-24 15:04:49,013 - iqm.benchmarks.logging_config - INFO - Retrieving all counts for qubits_[[0, 1], [4, 5], [6, 11]]_depth_34\n",
      "2025-03-24 15:04:49,019 - iqm.benchmarks.logging_config - INFO - Adding counts of qubits [[0, 1], [4, 5], [6, 11]] and depth 34 run to the dataset\n",
      "2025-03-24 15:04:49,383 - iqm.benchmarks.logging_config - INFO - Retrieving all counts for qubits_[[0, 1], [4, 5], [6, 11]]_depth_18\n",
      "2025-03-24 15:04:49,389 - iqm.benchmarks.logging_config - INFO - Adding counts of qubits [[0, 1], [4, 5], [6, 11]] and depth 18 run to the dataset\n",
      "2025-03-24 15:04:49,749 - iqm.benchmarks.logging_config - INFO - Retrieving all counts for qubits_[[0, 1], [4, 5], [6, 11]]_depth_10\n",
      "2025-03-24 15:04:49,754 - iqm.benchmarks.logging_config - INFO - Adding counts of qubits [[0, 1], [4, 5], [6, 11]] and depth 10 run to the dataset\n",
      "2025-03-24 15:04:50,137 - iqm.benchmarks.logging_config - INFO - Retrieving all counts for qubits_[[0, 1], [4, 5], [6, 11]]_depth_5\n",
      "2025-03-24 15:04:50,140 - iqm.benchmarks.logging_config - INFO - Adding counts of qubits [[0, 1], [4, 5], [6, 11]] and depth 5 run to the dataset\n",
      "2025-03-24 15:04:50,563 - iqm.benchmarks.logging_config - INFO - Retrieving all counts for qubits_[[0, 1], [4, 5], [6, 11]]_depth_3\n",
      "2025-03-24 15:04:50,567 - iqm.benchmarks.logging_config - INFO - Adding counts of qubits [[0, 1], [4, 5], [6, 11]] and depth 3 run to the dataset\n",
      "2025-03-24 15:04:51,011 - iqm.benchmarks.logging_config - INFO - Retrieving all counts for qubits_[[0, 1], [4, 5], [6, 11]]_depth_1\n",
      "2025-03-24 15:04:51,014 - iqm.benchmarks.logging_config - INFO - Adding counts of qubits [[0, 1], [4, 5], [6, 11]] and depth 1 run to the dataset\n",
      "2025-03-24 15:04:51,507 - iqm.benchmarks.logging_config - INFO - Retrieving all counts for qubits_[[1, 4], [5, 6], [11, 16]]_depth_200\n",
      "2025-03-24 15:04:51,515 - iqm.benchmarks.logging_config - INFO - Adding counts of qubits [[1, 4], [5, 6], [11, 16]] and depth 200 run to the dataset\n",
      "2025-03-24 15:04:52,012 - iqm.benchmarks.logging_config - INFO - Retrieving all counts for qubits_[[1, 4], [5, 6], [11, 16]]_depth_111\n",
      "2025-03-24 15:04:52,017 - iqm.benchmarks.logging_config - INFO - Adding counts of qubits [[1, 4], [5, 6], [11, 16]] and depth 111 run to the dataset\n",
      "2025-03-24 15:04:52,619 - iqm.benchmarks.logging_config - INFO - Retrieving all counts for qubits_[[1, 4], [5, 6], [11, 16]]_depth_61\n",
      "2025-03-24 15:04:52,628 - iqm.benchmarks.logging_config - INFO - Adding counts of qubits [[1, 4], [5, 6], [11, 16]] and depth 61 run to the dataset\n",
      "2025-03-24 15:04:53,201 - iqm.benchmarks.logging_config - INFO - Retrieving all counts for qubits_[[1, 4], [5, 6], [11, 16]]_depth_34\n",
      "2025-03-24 15:04:53,206 - iqm.benchmarks.logging_config - INFO - Adding counts of qubits [[1, 4], [5, 6], [11, 16]] and depth 34 run to the dataset\n",
      "2025-03-24 15:04:53,808 - iqm.benchmarks.logging_config - INFO - Retrieving all counts for qubits_[[1, 4], [5, 6], [11, 16]]_depth_18\n",
      "2025-03-24 15:04:53,812 - iqm.benchmarks.logging_config - INFO - Adding counts of qubits [[1, 4], [5, 6], [11, 16]] and depth 18 run to the dataset\n",
      "2025-03-24 15:04:54,463 - iqm.benchmarks.logging_config - INFO - Retrieving all counts for qubits_[[1, 4], [5, 6], [11, 16]]_depth_10\n",
      "2025-03-24 15:04:54,466 - iqm.benchmarks.logging_config - INFO - Adding counts of qubits [[1, 4], [5, 6], [11, 16]] and depth 10 run to the dataset\n",
      "2025-03-24 15:04:55,197 - iqm.benchmarks.logging_config - INFO - Retrieving all counts for qubits_[[1, 4], [5, 6], [11, 16]]_depth_5\n",
      "2025-03-24 15:04:55,202 - iqm.benchmarks.logging_config - INFO - Adding counts of qubits [[1, 4], [5, 6], [11, 16]] and depth 5 run to the dataset\n",
      "2025-03-24 15:04:55,938 - iqm.benchmarks.logging_config - INFO - Retrieving all counts for qubits_[[1, 4], [5, 6], [11, 16]]_depth_3\n",
      "2025-03-24 15:04:55,942 - iqm.benchmarks.logging_config - INFO - Adding counts of qubits [[1, 4], [5, 6], [11, 16]] and depth 3 run to the dataset\n",
      "2025-03-24 15:04:56,690 - iqm.benchmarks.logging_config - INFO - Retrieving all counts for qubits_[[1, 4], [5, 6], [11, 16]]_depth_1\n",
      "2025-03-24 15:04:56,692 - iqm.benchmarks.logging_config - INFO - Adding counts of qubits [[1, 4], [5, 6], [11, 16]] and depth 1 run to the dataset\n",
      "2025-03-24 15:04:57,452 - iqm.benchmarks.logging_config - INFO - DRB experiment execution concluded !\n"
     ]
    }
   ],
   "execution_count": 7
  },
  {
   "metadata": {},
   "cell_type": "markdown",
   "source": "## Perform the analysis",
   "id": "8ec59869f4a216c5"
  },
  {
   "metadata": {
    "ExecuteTime": {
     "end_time": "2025-03-24T14:05:00.197239Z",
     "start_time": "2025-03-24T14:04:57.577997Z"
    }
   },
   "cell_type": "code",
   "source": "result_eplg = benchmark_eplg.analyze()",
   "id": "f56667daf1b05a19",
   "outputs": [
    {
     "name": "stderr",
     "output_type": "stream",
     "text": [
      "2025-03-24 15:04:58,596 - iqm.benchmarks.logging_config - INFO - Post-processing parallel Direct RB on qubits [[0, 1], [4, 5], [6, 11]].\n",
      "2025-03-24 15:04:58,615 - iqm.benchmarks.logging_config - INFO - Depth 200\n",
      "2025-03-24 15:04:58,658 - iqm.benchmarks.logging_config - INFO - Depth 111\n",
      "2025-03-24 15:04:58,695 - iqm.benchmarks.logging_config - INFO - Depth 61\n",
      "2025-03-24 15:04:58,738 - iqm.benchmarks.logging_config - INFO - Depth 34\n",
      "2025-03-24 15:04:58,769 - iqm.benchmarks.logging_config - INFO - Depth 18\n",
      "2025-03-24 15:04:58,797 - iqm.benchmarks.logging_config - INFO - Depth 10\n",
      "2025-03-24 15:04:58,820 - iqm.benchmarks.logging_config - INFO - Depth 5\n",
      "2025-03-24 15:04:58,845 - iqm.benchmarks.logging_config - INFO - Depth 3\n",
      "2025-03-24 15:04:58,875 - iqm.benchmarks.logging_config - INFO - Depth 1\n",
      "2025-03-24 15:04:59,026 - iqm.benchmarks.logging_config - INFO - Post-processing parallel Direct RB on qubits [[1, 4], [5, 6], [11, 16]].\n",
      "2025-03-24 15:04:59,047 - iqm.benchmarks.logging_config - INFO - Depth 200\n",
      "2025-03-24 15:04:59,079 - iqm.benchmarks.logging_config - INFO - Depth 111\n",
      "2025-03-24 15:04:59,108 - iqm.benchmarks.logging_config - INFO - Depth 61\n",
      "2025-03-24 15:04:59,142 - iqm.benchmarks.logging_config - INFO - Depth 34\n",
      "2025-03-24 15:04:59,170 - iqm.benchmarks.logging_config - INFO - Depth 18\n",
      "2025-03-24 15:04:59,197 - iqm.benchmarks.logging_config - INFO - Depth 10\n",
      "2025-03-24 15:04:59,220 - iqm.benchmarks.logging_config - INFO - Depth 5\n",
      "2025-03-24 15:04:59,245 - iqm.benchmarks.logging_config - INFO - Depth 3\n",
      "2025-03-24 15:04:59,267 - iqm.benchmarks.logging_config - INFO - Depth 1\n"
     ]
    }
   ],
   "execution_count": 8
  },
  {
   "metadata": {
    "ExecuteTime": {
     "end_time": "2025-03-24T14:05:00.328513Z",
     "start_time": "2025-03-24T14:05:00.202337Z"
    }
   },
   "cell_type": "code",
   "source": "run_eplg.dataset.attrs.keys()",
   "id": "91849c7f98d3b8ed",
   "outputs": [
    {
     "data": {
      "text/plain": [
       "dict_keys(['session_timestamp', 'execution_timestamp', 'backend_configuration_name', 'backend_name', 'benchmark', 'shots', 'max_gates_per_batch', 'max_circuits_per_batch', 'calset_id', 'routing_method', 'physical_layout', 'use_dd', 'dd_strategy', 'qubits_array', 'is_eplg', 'parallel_execution', 'depths', 'num_circuit_samples', 'qiskit_optim_level', 'two_qubit_gate_ensembles', 'densities_2q_gates', 'clifford_sqg_probabilities', 'sqg_gate_ensembles', 'parallel_all_0', 0, 'parallel_all_1', 1, 'backend', 'drb_depths', 'drb_circuit_samples', 'custom_qubits_array', 'chain_length', 'chain_path_samples', 'num_disjoint_layers', 'calibration_url'])"
      ]
     },
     "execution_count": 9,
     "metadata": {},
     "output_type": "execute_result"
    }
   ],
   "execution_count": 9
  },
  {
   "metadata": {
    "ExecuteTime": {
     "end_time": "2025-03-24T14:05:00.546246Z",
     "start_time": "2025-03-24T14:05:00.416783Z"
    }
   },
   "cell_type": "code",
   "source": [
    "for o in result_eplg.observations:\n",
    "    if o.name != \"EPLG\":\n",
    "        print(f\"{o.name} {o.identifier.qubit_indices}: {100*o.value:.2f} +/- {100*o.uncertainty:.2f} %\")\n",
    "    else:\n",
    "        print(f\"\\n{o.name} {o.identifier.qubit_indices}: {o.value:.2e} +/- {o.uncertainty:.2e}\")"
   ],
   "id": "d78f9897a7995e37",
   "outputs": [
    {
     "name": "stdout",
     "output_type": "stream",
     "text": [
      "average_gate_fidelity [0, 1]: 96.21 +/- 0.06 %\n",
      "average_gate_fidelity [4, 5]: 96.41 +/- 0.10 %\n",
      "average_gate_fidelity [6, 11]: 95.97 +/- 0.09 %\n",
      "average_gate_fidelity [1, 4]: 96.42 +/- 0.10 %\n",
      "average_gate_fidelity [5, 6]: 95.57 +/- 0.09 %\n",
      "average_gate_fidelity [11, 16]: 95.74 +/- 0.10 %\n",
      "Layer Fidelity (n_qubits=8): 78.53 +/- 0.18 %\n",
      "\n",
      "EPLG (n_qubits=8): 3.95e-02 +/- 3.68e-04\n"
     ]
    }
   ],
   "execution_count": 10
  },
  {
   "metadata": {
    "ExecuteTime": {
     "end_time": "2025-03-24T14:05:00.631738Z",
     "start_time": "2025-03-24T14:05:00.628744Z"
    }
   },
   "cell_type": "code",
   "source": "",
   "id": "9b822ed16ce6c0e8",
   "outputs": [],
   "execution_count": null
  }
 ],
 "metadata": {
  "kernelspec": {
   "name": "iqm-bench",
   "language": "python",
   "display_name": "iqm-bench"
  }
 },
 "nbformat": 5,
 "nbformat_minor": 9
}
