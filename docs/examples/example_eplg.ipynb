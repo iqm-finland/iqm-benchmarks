{
 "cells": [
  {
   "cell_type": "markdown",
   "id": "e65a9545",
   "metadata": {},
   "source": "# Error Per Layered Gate (EPLG)"
  },
  {
   "cell_type": "code",
   "id": "initial_id",
   "metadata": {
    "ExecuteTime": {
     "end_time": "2025-03-25T08:45:34.541680Z",
     "start_time": "2025-03-25T08:45:34.395416Z"
    }
   },
   "source": [
    "%load_ext autoreload\n",
    "%autoreload 2"
   ],
   "outputs": [],
   "execution_count": 1
  },
  {
   "cell_type": "markdown",
   "id": "2a263e81998110aa",
   "metadata": {},
   "source": [
    "## Choose (or define) a backend"
   ]
  },
  {
   "cell_type": "code",
   "id": "e35291cffa2e85ca",
   "metadata": {
    "ExecuteTime": {
     "end_time": "2025-03-25T08:45:34.578969Z",
     "start_time": "2025-03-25T08:45:34.549686Z"
    }
   },
   "source": [
    "# from iqm.qiskit_iqm.iqm_provider import IQMProvider\n",
    "#\n",
    "# resonance_station=\"xxxxxxxxxxxxxxxxxxxx\"\n",
    "# iqm_url=f\"https://cocos.resonance.meetiqm.com/{resonance_station}\"\n",
    "# cal_url=f\"https://api.resonance.meetiqm.com/quantum-computers/v1/{resonance_station}/calibrations\"\n",
    "# provider = IQMProvider(iqm_url)\n",
    "# backend = provider.get_backend()\n",
    "\n",
    "backend=\"iqmfakeapollo\""
   ],
   "outputs": [],
   "execution_count": 2
  },
  {
   "cell_type": "markdown",
   "id": "344de3a9c5922129",
   "metadata": {},
   "source": [
    "## Set IQM Token if using Resonance."
   ]
  },
  {
   "cell_type": "code",
   "id": "3a432b291ee43d28",
   "metadata": {
    "ExecuteTime": {
     "end_time": "2025-03-25T08:45:34.900086Z",
     "start_time": "2025-03-25T08:45:34.819520Z"
    }
   },
   "source": [
    "# import os\n",
    "# os.environ[\"IQM_TOKEN\"] = \"\""
   ],
   "outputs": [],
   "execution_count": 3
  },
  {
   "cell_type": "markdown",
   "id": "980996fb8cd974e3",
   "metadata": {},
   "source": [
    "## Randomized Benchmarking Configuration"
   ]
  },
  {
   "cell_type": "markdown",
   "id": "8cd8eb25f5429610",
   "metadata": {},
   "source": [
    "NB: Clifford RB is executed by default with Interleaved RB !"
   ]
  },
  {
   "cell_type": "code",
   "id": "ba85a6f3363db23e",
   "metadata": {},
   "source": "from iqm.benchmarks.randomized_benchmarking.eplg.eplg import *",
   "outputs": [],
   "execution_count": null
  },
  {
   "cell_type": "code",
   "id": "20154c4123ffe947",
   "metadata": {
    "ExecuteTime": {
     "end_time": "2025-03-25T08:45:40.068663Z",
     "start_time": "2025-03-25T08:45:39.931778Z"
    }
   },
   "source": [
    "EXAMPLE_EPLG = EPLGConfiguration(\n",
    "    custom_qubits_array=[[0,1],[1,4],[4,5],[5,6],[6,11],[11,16]],\n",
    "    drb_depths=sorted(list(set(np.geomspace(1, 200, num=10, endpoint=True, dtype=int).tolist())), reverse=True),\n",
    "    drb_circuit_samples=25,\n",
    "    shots=2**8,\n",
    "    chain_length=8,\n",
    "    chain_path_samples=100,\n",
    "    num_disjoint_layers=2,\n",
    ")"
   ],
   "outputs": [],
   "execution_count": 5
  },
  {
   "cell_type": "markdown",
   "id": "7e5d068cd0eb3dee",
   "metadata": {},
   "source": [
    "## Run the experiment"
   ]
  },
  {
   "cell_type": "code",
   "id": "591063f0d8132eae",
   "metadata": {
    "ExecuteTime": {
     "end_time": "2025-03-25T08:50:56.122452Z",
     "start_time": "2025-03-25T08:45:40.076861Z"
    }
   },
   "source": [
    "benchmark_eplg = EPLGBenchmark(backend, EXAMPLE_EPLG)\n",
    "run_eplg = benchmark_eplg.run()"
   ],
   "outputs": [
    {
     "name": "stderr",
     "output_type": "stream",
     "text": [
      "2025-03-25 09:45:40,914 - iqm.benchmarks.logging_config - INFO - WARNING: custom_qubits_array validation not yet implemented! Make sure it forms a linear chain.\n",
      "2025-03-25 09:45:48,470 - iqm.benchmarks.logging_config - INFO - Clifford dictionaries imported successfully !\n",
      "2025-03-25 09:45:48,471 - iqm.benchmarks.logging_config - INFO - Executing parallel Direct RB on qubits [[0, 1], [4, 5], [6, 11]] (group 1/2). Will generate and submit all 25 DRB circuits for each depth [200, 111, 61, 34, 18, 10, 5, 3, 1]\n",
      "2025-03-25 09:45:48,472 - iqm.benchmarks.logging_config - INFO - Depth 200\n",
      "2025-03-25 09:46:42,323 - iqm.benchmarks.logging_config - INFO - Submitting batch with 25 circuits corresponding to qubits [0, 1, 4, 5, 6, 11]\n",
      "2025-03-25 09:46:42,330 - iqm.benchmarks.logging_config - INFO - Job for depth 200 submitted successfully!\n",
      "2025-03-25 09:46:42,456 - iqm.benchmarks.logging_config - INFO - Depth 111\n",
      "2025-03-25 09:47:20,000 - iqm.benchmarks.logging_config - INFO - Submitting batch with 25 circuits corresponding to qubits [0, 1, 4, 5, 6, 11]\n",
      "2025-03-25 09:47:20,001 - iqm.benchmarks.logging_config - INFO - Job for depth 111 submitted successfully!\n",
      "2025-03-25 09:47:20,066 - iqm.benchmarks.logging_config - INFO - Depth 61\n",
      "2025-03-25 09:47:41,408 - iqm.benchmarks.logging_config - INFO - Submitting batch with 25 circuits corresponding to qubits [0, 1, 4, 5, 6, 11]\n",
      "2025-03-25 09:47:41,410 - iqm.benchmarks.logging_config - INFO - Job for depth 61 submitted successfully!\n",
      "2025-03-25 09:47:41,420 - iqm.benchmarks.logging_config - INFO - Depth 34\n",
      "2025-03-25 09:47:57,363 - iqm.benchmarks.logging_config - INFO - Submitting batch with 25 circuits corresponding to qubits [0, 1, 4, 5, 6, 11]\n",
      "2025-03-25 09:47:57,364 - iqm.benchmarks.logging_config - INFO - Job for depth 34 submitted successfully!\n",
      "2025-03-25 09:47:57,426 - iqm.benchmarks.logging_config - INFO - Depth 18\n",
      "2025-03-25 09:48:02,541 - iqm.benchmarks.logging_config - INFO - Submitting batch with 25 circuits corresponding to qubits [0, 1, 4, 5, 6, 11]\n",
      "2025-03-25 09:48:02,543 - iqm.benchmarks.logging_config - INFO - Job for depth 18 submitted successfully!\n",
      "2025-03-25 09:48:02,543 - iqm.benchmarks.logging_config - INFO - Depth 10\n",
      "2025-03-25 09:48:06,244 - iqm.benchmarks.logging_config - INFO - Submitting batch with 25 circuits corresponding to qubits [0, 1, 4, 5, 6, 11]\n",
      "2025-03-25 09:48:06,245 - iqm.benchmarks.logging_config - INFO - Job for depth 10 submitted successfully!\n",
      "2025-03-25 09:48:06,341 - iqm.benchmarks.logging_config - INFO - Depth 5\n",
      "2025-03-25 09:48:16,832 - iqm.benchmarks.logging_config - INFO - Submitting batch with 25 circuits corresponding to qubits [0, 1, 4, 5, 6, 11]\n",
      "2025-03-25 09:48:16,834 - iqm.benchmarks.logging_config - INFO - Job for depth 5 submitted successfully!\n",
      "2025-03-25 09:48:16,870 - iqm.benchmarks.logging_config - INFO - Depth 3\n",
      "2025-03-25 09:48:18,358 - iqm.benchmarks.logging_config - INFO - Submitting batch with 25 circuits corresponding to qubits [0, 1, 4, 5, 6, 11]\n",
      "2025-03-25 09:48:18,359 - iqm.benchmarks.logging_config - INFO - Job for depth 3 submitted successfully!\n",
      "2025-03-25 09:48:18,440 - iqm.benchmarks.logging_config - INFO - Depth 1\n",
      "2025-03-25 09:48:19,442 - iqm.benchmarks.logging_config - INFO - Submitting batch with 25 circuits corresponding to qubits [0, 1, 4, 5, 6, 11]\n",
      "2025-03-25 09:48:19,443 - iqm.benchmarks.logging_config - INFO - Job for depth 1 submitted successfully!\n",
      "2025-03-25 09:48:19,451 - iqm.benchmarks.logging_config - INFO - Executing parallel Direct RB on qubits [[1, 4], [5, 6], [11, 16]] (group 2/2). Will generate and submit all 25 DRB circuits for each depth [200, 111, 61, 34, 18, 10, 5, 3, 1]\n",
      "2025-03-25 09:48:19,497 - iqm.benchmarks.logging_config - INFO - Depth 200\n",
      "2025-03-25 09:49:17,939 - iqm.benchmarks.logging_config - INFO - Submitting batch with 25 circuits corresponding to qubits [1, 4, 5, 6, 11, 16]\n",
      "2025-03-25 09:49:17,940 - iqm.benchmarks.logging_config - INFO - Job for depth 200 submitted successfully!\n",
      "2025-03-25 09:49:17,989 - iqm.benchmarks.logging_config - INFO - Depth 111\n",
      "2025-03-25 09:49:54,701 - iqm.benchmarks.logging_config - INFO - Submitting batch with 25 circuits corresponding to qubits [1, 4, 5, 6, 11, 16]\n",
      "2025-03-25 09:49:54,702 - iqm.benchmarks.logging_config - INFO - Job for depth 111 submitted successfully!\n",
      "2025-03-25 09:49:54,703 - iqm.benchmarks.logging_config - INFO - Depth 61\n",
      "2025-03-25 09:50:24,018 - iqm.benchmarks.logging_config - INFO - Submitting batch with 25 circuits corresponding to qubits [1, 4, 5, 6, 11, 16]\n",
      "2025-03-25 09:50:24,019 - iqm.benchmarks.logging_config - INFO - Job for depth 61 submitted successfully!\n",
      "2025-03-25 09:50:24,149 - iqm.benchmarks.logging_config - INFO - Depth 34\n",
      "2025-03-25 09:50:33,649 - iqm.benchmarks.logging_config - INFO - Submitting batch with 25 circuits corresponding to qubits [1, 4, 5, 6, 11, 16]\n",
      "2025-03-25 09:50:33,650 - iqm.benchmarks.logging_config - INFO - Job for depth 34 submitted successfully!\n",
      "2025-03-25 09:50:33,741 - iqm.benchmarks.logging_config - INFO - Depth 18\n",
      "2025-03-25 09:50:39,290 - iqm.benchmarks.logging_config - INFO - Submitting batch with 25 circuits corresponding to qubits [1, 4, 5, 6, 11, 16]\n",
      "2025-03-25 09:50:39,291 - iqm.benchmarks.logging_config - INFO - Job for depth 18 submitted successfully!\n",
      "2025-03-25 09:50:39,348 - iqm.benchmarks.logging_config - INFO - Depth 10\n",
      "2025-03-25 09:50:42,157 - iqm.benchmarks.logging_config - INFO - Submitting batch with 25 circuits corresponding to qubits [1, 4, 5, 6, 11, 16]\n",
      "2025-03-25 09:50:42,159 - iqm.benchmarks.logging_config - INFO - Job for depth 10 submitted successfully!\n",
      "2025-03-25 09:50:42,160 - iqm.benchmarks.logging_config - INFO - Depth 5\n",
      "2025-03-25 09:50:44,350 - iqm.benchmarks.logging_config - INFO - Submitting batch with 25 circuits corresponding to qubits [1, 4, 5, 6, 11, 16]\n",
      "2025-03-25 09:50:44,351 - iqm.benchmarks.logging_config - INFO - Job for depth 5 submitted successfully!\n",
      "2025-03-25 09:50:44,359 - iqm.benchmarks.logging_config - INFO - Depth 3\n",
      "2025-03-25 09:50:46,406 - iqm.benchmarks.logging_config - INFO - Submitting batch with 25 circuits corresponding to qubits [1, 4, 5, 6, 11, 16]\n",
      "2025-03-25 09:50:46,407 - iqm.benchmarks.logging_config - INFO - Job for depth 3 submitted successfully!\n",
      "2025-03-25 09:50:46,526 - iqm.benchmarks.logging_config - INFO - Depth 1\n",
      "2025-03-25 09:50:47,490 - iqm.benchmarks.logging_config - INFO - Submitting batch with 25 circuits corresponding to qubits [1, 4, 5, 6, 11, 16]\n",
      "2025-03-25 09:50:47,491 - iqm.benchmarks.logging_config - INFO - Job for depth 1 submitted successfully!\n",
      "2025-03-25 09:50:47,499 - iqm.benchmarks.logging_config - INFO - Retrieving all counts for qubits_[[0, 1], [4, 5], [6, 11]]_depth_200\n",
      "2025-03-25 09:50:47,532 - iqm.benchmarks.logging_config - INFO - Adding counts of qubits [[0, 1], [4, 5], [6, 11]] and depth 200 run to the dataset\n",
      "2025-03-25 09:50:48,343 - iqm.benchmarks.logging_config - INFO - Retrieving all counts for qubits_[[0, 1], [4, 5], [6, 11]]_depth_111\n",
      "2025-03-25 09:50:48,347 - iqm.benchmarks.logging_config - INFO - Adding counts of qubits [[0, 1], [4, 5], [6, 11]] and depth 111 run to the dataset\n",
      "2025-03-25 09:50:48,582 - iqm.benchmarks.logging_config - INFO - Retrieving all counts for qubits_[[0, 1], [4, 5], [6, 11]]_depth_61\n",
      "2025-03-25 09:50:48,587 - iqm.benchmarks.logging_config - INFO - Adding counts of qubits [[0, 1], [4, 5], [6, 11]] and depth 61 run to the dataset\n",
      "2025-03-25 09:50:48,835 - iqm.benchmarks.logging_config - INFO - Retrieving all counts for qubits_[[0, 1], [4, 5], [6, 11]]_depth_34\n",
      "2025-03-25 09:50:48,839 - iqm.benchmarks.logging_config - INFO - Adding counts of qubits [[0, 1], [4, 5], [6, 11]] and depth 34 run to the dataset\n",
      "2025-03-25 09:50:49,110 - iqm.benchmarks.logging_config - INFO - Retrieving all counts for qubits_[[0, 1], [4, 5], [6, 11]]_depth_18\n",
      "2025-03-25 09:50:49,114 - iqm.benchmarks.logging_config - INFO - Adding counts of qubits [[0, 1], [4, 5], [6, 11]] and depth 18 run to the dataset\n",
      "2025-03-25 09:50:49,403 - iqm.benchmarks.logging_config - INFO - Retrieving all counts for qubits_[[0, 1], [4, 5], [6, 11]]_depth_10\n",
      "2025-03-25 09:50:49,407 - iqm.benchmarks.logging_config - INFO - Adding counts of qubits [[0, 1], [4, 5], [6, 11]] and depth 10 run to the dataset\n",
      "2025-03-25 09:50:49,703 - iqm.benchmarks.logging_config - INFO - Retrieving all counts for qubits_[[0, 1], [4, 5], [6, 11]]_depth_5\n",
      "2025-03-25 09:50:49,706 - iqm.benchmarks.logging_config - INFO - Adding counts of qubits [[0, 1], [4, 5], [6, 11]] and depth 5 run to the dataset\n",
      "2025-03-25 09:50:50,039 - iqm.benchmarks.logging_config - INFO - Retrieving all counts for qubits_[[0, 1], [4, 5], [6, 11]]_depth_3\n",
      "2025-03-25 09:50:50,041 - iqm.benchmarks.logging_config - INFO - Adding counts of qubits [[0, 1], [4, 5], [6, 11]] and depth 3 run to the dataset\n",
      "2025-03-25 09:50:50,430 - iqm.benchmarks.logging_config - INFO - Retrieving all counts for qubits_[[0, 1], [4, 5], [6, 11]]_depth_1\n",
      "2025-03-25 09:50:50,432 - iqm.benchmarks.logging_config - INFO - Adding counts of qubits [[0, 1], [4, 5], [6, 11]] and depth 1 run to the dataset\n",
      "2025-03-25 09:50:50,951 - iqm.benchmarks.logging_config - INFO - Retrieving all counts for qubits_[[1, 4], [5, 6], [11, 16]]_depth_200\n",
      "2025-03-25 09:50:50,956 - iqm.benchmarks.logging_config - INFO - Adding counts of qubits [[1, 4], [5, 6], [11, 16]] and depth 200 run to the dataset\n",
      "2025-03-25 09:50:51,427 - iqm.benchmarks.logging_config - INFO - Retrieving all counts for qubits_[[1, 4], [5, 6], [11, 16]]_depth_111\n",
      "2025-03-25 09:50:51,432 - iqm.benchmarks.logging_config - INFO - Adding counts of qubits [[1, 4], [5, 6], [11, 16]] and depth 111 run to the dataset\n",
      "2025-03-25 09:50:51,894 - iqm.benchmarks.logging_config - INFO - Retrieving all counts for qubits_[[1, 4], [5, 6], [11, 16]]_depth_61\n",
      "2025-03-25 09:50:51,898 - iqm.benchmarks.logging_config - INFO - Adding counts of qubits [[1, 4], [5, 6], [11, 16]] and depth 61 run to the dataset\n",
      "2025-03-25 09:50:52,373 - iqm.benchmarks.logging_config - INFO - Retrieving all counts for qubits_[[1, 4], [5, 6], [11, 16]]_depth_34\n",
      "2025-03-25 09:50:52,377 - iqm.benchmarks.logging_config - INFO - Adding counts of qubits [[1, 4], [5, 6], [11, 16]] and depth 34 run to the dataset\n",
      "2025-03-25 09:50:52,946 - iqm.benchmarks.logging_config - INFO - Retrieving all counts for qubits_[[1, 4], [5, 6], [11, 16]]_depth_18\n",
      "2025-03-25 09:50:52,950 - iqm.benchmarks.logging_config - INFO - Adding counts of qubits [[1, 4], [5, 6], [11, 16]] and depth 18 run to the dataset\n",
      "2025-03-25 09:50:53,547 - iqm.benchmarks.logging_config - INFO - Retrieving all counts for qubits_[[1, 4], [5, 6], [11, 16]]_depth_10\n",
      "2025-03-25 09:50:53,550 - iqm.benchmarks.logging_config - INFO - Adding counts of qubits [[1, 4], [5, 6], [11, 16]] and depth 10 run to the dataset\n",
      "2025-03-25 09:50:54,140 - iqm.benchmarks.logging_config - INFO - Retrieving all counts for qubits_[[1, 4], [5, 6], [11, 16]]_depth_5\n",
      "2025-03-25 09:50:54,143 - iqm.benchmarks.logging_config - INFO - Adding counts of qubits [[1, 4], [5, 6], [11, 16]] and depth 5 run to the dataset\n",
      "2025-03-25 09:50:54,735 - iqm.benchmarks.logging_config - INFO - Retrieving all counts for qubits_[[1, 4], [5, 6], [11, 16]]_depth_3\n",
      "2025-03-25 09:50:54,737 - iqm.benchmarks.logging_config - INFO - Adding counts of qubits [[1, 4], [5, 6], [11, 16]] and depth 3 run to the dataset\n",
      "2025-03-25 09:50:55,412 - iqm.benchmarks.logging_config - INFO - Retrieving all counts for qubits_[[1, 4], [5, 6], [11, 16]]_depth_1\n",
      "2025-03-25 09:50:55,414 - iqm.benchmarks.logging_config - INFO - Adding counts of qubits [[1, 4], [5, 6], [11, 16]] and depth 1 run to the dataset\n",
      "2025-03-25 09:50:56,107 - iqm.benchmarks.logging_config - INFO - DRB experiment execution concluded !\n"
     ]
    }
   ],
   "execution_count": 6
  },
  {
   "cell_type": "markdown",
   "id": "3a315574edfd900f",
   "metadata": {},
   "source": [
    "## Perform the analysis"
   ]
  },
  {
   "cell_type": "code",
   "id": "b88a8b0a2afc80c",
   "metadata": {
    "ExecuteTime": {
     "end_time": "2025-03-25T08:50:58.344133Z",
     "start_time": "2025-03-25T08:50:56.217910Z"
    }
   },
   "source": "result_eplg = benchmark_eplg.analyze()",
   "outputs": [
    {
     "name": "stderr",
     "output_type": "stream",
     "text": [
      "2025-03-25 09:50:57,022 - iqm.benchmarks.logging_config - INFO - Post-processing parallel Direct RB on qubits [[0, 1], [4, 5], [6, 11]].\n",
      "2025-03-25 09:50:57,039 - iqm.benchmarks.logging_config - INFO - Depth 200\n",
      "2025-03-25 09:50:57,061 - iqm.benchmarks.logging_config - INFO - Depth 111\n",
      "2025-03-25 09:50:57,083 - iqm.benchmarks.logging_config - INFO - Depth 61\n",
      "2025-03-25 09:50:57,106 - iqm.benchmarks.logging_config - INFO - Depth 34\n",
      "2025-03-25 09:50:57,127 - iqm.benchmarks.logging_config - INFO - Depth 18\n",
      "2025-03-25 09:50:57,147 - iqm.benchmarks.logging_config - INFO - Depth 10\n",
      "2025-03-25 09:50:57,167 - iqm.benchmarks.logging_config - INFO - Depth 5\n",
      "2025-03-25 09:50:57,187 - iqm.benchmarks.logging_config - INFO - Depth 3\n",
      "2025-03-25 09:50:57,205 - iqm.benchmarks.logging_config - INFO - Depth 1\n",
      "2025-03-25 09:50:57,320 - iqm.benchmarks.logging_config - INFO - Post-processing parallel Direct RB on qubits [[1, 4], [5, 6], [11, 16]].\n",
      "2025-03-25 09:50:57,338 - iqm.benchmarks.logging_config - INFO - Depth 200\n",
      "2025-03-25 09:50:57,360 - iqm.benchmarks.logging_config - INFO - Depth 111\n",
      "2025-03-25 09:50:57,382 - iqm.benchmarks.logging_config - INFO - Depth 61\n",
      "2025-03-25 09:50:57,406 - iqm.benchmarks.logging_config - INFO - Depth 34\n",
      "2025-03-25 09:50:57,430 - iqm.benchmarks.logging_config - INFO - Depth 18\n",
      "2025-03-25 09:50:57,452 - iqm.benchmarks.logging_config - INFO - Depth 10\n",
      "2025-03-25 09:50:57,472 - iqm.benchmarks.logging_config - INFO - Depth 5\n",
      "2025-03-25 09:50:57,491 - iqm.benchmarks.logging_config - INFO - Depth 3\n",
      "2025-03-25 09:50:57,509 - iqm.benchmarks.logging_config - INFO - Depth 1\n"
     ]
    }
   ],
   "execution_count": 7
  },
  {
   "cell_type": "code",
   "id": "3505642a",
   "metadata": {
    "ExecuteTime": {
     "end_time": "2025-03-25T08:50:58.461318Z",
     "start_time": "2025-03-25T08:50:58.350140Z"
    }
   },
   "source": "run_eplg.dataset.attrs.keys()",
   "outputs": [
    {
     "data": {
      "text/plain": [
       "dict_keys(['session_timestamp', 'execution_timestamp', 'backend_configuration_name', 'backend_name', 'benchmark', 'shots', 'max_gates_per_batch', 'max_circuits_per_batch', 'calset_id', 'routing_method', 'physical_layout', 'use_dd', 'dd_strategy', 'qubits_array', 'is_eplg', 'parallel_execution', 'depths', 'num_circuit_samples', 'qiskit_optim_level', 'two_qubit_gate_ensembles', 'densities_2q_gates', 'clifford_sqg_probabilities', 'sqg_gate_ensembles', 'parallel_all_0', 0, 'parallel_all_1', 1, 'backend', 'drb_depths', 'drb_circuit_samples', 'custom_qubits_array', 'chain_length', 'chain_path_samples', 'num_disjoint_layers', 'calibration_url'])"
      ]
     },
     "execution_count": 8,
     "metadata": {},
     "output_type": "execute_result"
    }
   ],
   "execution_count": 8
  },
  {
   "cell_type": "code",
   "id": "b1f222a30a8a3679",
   "metadata": {
    "ExecuteTime": {
     "end_time": "2025-03-25T08:50:58.651050Z",
     "start_time": "2025-03-25T08:50:58.537290Z"
    }
   },
   "source": [
    "for o in result_eplg.observations:\n",
    "    if o.name != \"EPLG\":\n",
    "        print(f\"{o.name} {o.identifier.qubit_indices}: {100*o.value:.2f} +/- {100*o.uncertainty:.2f} %\")\n",
    "    else:\n",
    "        print(f\"\\n{o.name} {o.identifier.qubit_indices}: {o.value:.2e} +/- {o.uncertainty:.2e}\")"
   ],
   "outputs": [
    {
     "name": "stdout",
     "output_type": "stream",
     "text": [
      "average_gate_fidelity [0, 1]: 96.25 +/- 0.11 %\n",
      "average_gate_fidelity [4, 5]: 96.36 +/- 0.08 %\n",
      "average_gate_fidelity [6, 11]: 95.92 +/- 0.09 %\n",
      "average_gate_fidelity [1, 4]: 96.42 +/- 0.11 %\n",
      "average_gate_fidelity [5, 6]: 95.66 +/- 0.15 %\n",
      "average_gate_fidelity [11, 16]: 95.74 +/- 0.12 %\n",
      "Layer Fidelity (n_qubits=8): 78.55 +/- 0.22 %\n",
      "\n",
      "EPLG (n_qubits=8): 3.94e-02 +/- 4.55e-04\n"
     ]
    }
   ],
   "execution_count": 9
  },
  {
   "cell_type": "code",
   "id": "3016af51a48da846",
   "metadata": {
    "ExecuteTime": {
     "end_time": "2025-03-25T08:50:58.732668Z",
     "start_time": "2025-03-25T08:50:58.728668Z"
    }
   },
   "source": [],
   "outputs": [],
   "execution_count": null
  }
 ],
 "metadata": {
  "kernelspec": {
   "display_name": "iqm-bench",
   "language": "python",
   "name": "iqm-bench"
  },
  "language_info": {
   "codemirror_mode": {
    "name": "ipython",
    "version": 3
   },
   "file_extension": ".py",
   "mimetype": "text/x-python",
   "name": "python",
   "nbconvert_exporter": "python",
   "pygments_lexer": "ipython3",
   "version": "3.11.8"
  }
 },
 "nbformat": 4,
 "nbformat_minor": 5
}
